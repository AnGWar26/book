{
 "cells": [
  {
   "cell_type": "markdown",
   "metadata": {
    "deletable": true,
    "editable": true
   },
   "source": [
    "# Table of Contents\n",
    "\n",
    "## Part I: Building Blocks\n",
    "\n",
    "- [Geospatial Computational Environment](01_geospatial_computational_environment)\n",
    "- [Spatial data](02_spatial_data)\n",
    "- [Spatial data processing](03_spatial_data_processing)\n",
    "- [Spatial weights](04_spatial_weights)\n",
    "\n",
    "## Part II: Spatial Data Analysis\n",
    "\n",
    "- [Choropleth Mapping](05_choropleth)\n",
    "- [Spatial Autocorrelation](06_spatial_autocorrelation)\n",
    "- [Local Spatial Autocorrelation](07_local_autocorrelation)\n",
    "- [Point Pattern Analysis](08_point_pattern_analysis)\n",
    "\n",
    "## Part III: Advanced Topics\n",
    "\n",
    "- [Spatial Inequality](09_spatial_inequality)\n",
    "- [Clustering and Regionalization](10_clustering_and_regionalization)\n",
    "- [Spatial Regression](11_regression)\n",
    "- [Spatial Feature Engineering](12_feature_engineering)\n",
    "\n",
    "<a rel=\"license\" href=\"http://creativecommons.org/licenses/by-nc-nd/4.0/\"><img alt=\"Creative Commons License\" style=\"border-width:0\" src=\"https://i.creativecommons.org/l/by-nc-nd/4.0/88x31.png\" /></a><br />This work is licensed under a <a rel=\"license\" href=\"http://creativecommons.org/licenses/by-nc-nd/4.0/\">Creative Commons Attribution-NonCommercial-NoDerivatives 4.0 International License</a>."
   ]
  }
 ],
 "metadata": {
  "anaconda-cloud": {},
  "jupytext": {
   "formats": "ipynb,md"
  },
  "kernelspec": {
   "display_name": "Python 3",
   "language": "python",
   "name": "python3"
  },
  "language_info": {
   "codemirror_mode": {
    "name": "ipython",
    "version": 3
   },
   "file_extension": ".py",
   "mimetype": "text/x-python",
   "name": "python",
   "nbconvert_exporter": "python",
   "pygments_lexer": "ipython3",
   "version": "3.7.1"
  }
 },
 "nbformat": 4,
 "nbformat_minor": 2
}
