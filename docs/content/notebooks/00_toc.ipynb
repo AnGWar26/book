{
 "cells": [
  {
   "cell_type": "markdown",
   "metadata": {
    "deletable": true,
    "editable": true
   },
   "source": [
    "# Geographical Data Science with PySAL and the Python Geospatial Stack\n",
    "\n",
    "\n",
    "## Table of Contents\n",
    "\n",
    "### Part I: Building Blocks\n",
    "\n",
    "- [Introduction](introduction.ipynb)\n",
    "- [Geospatial Computational Environment](geospatial_computational_environment.ipynb)\n",
    "- [Spatial data](spatial data.ipynb)\n",
    "- [Spatial data processing](spatial_data_processing.ipynb)\n",
    "\n",
    "### Part II: Spatial Data Analysis\n",
    "- [Choropleth Mapping](choropleth.ipynb)\n",
    "- [Global Spatial Autocorrelation Analysis](sp_autocorrelation.ipynb)\n",
    "- Local Autocorrelation Analysis\n",
    "- Point Pattern Analysis\n",
    "\n",
    "\n",
    "### Part III: Advanced Topics\n",
    "- [Clustering and Regionalization](clustering_and_regionalization.ipynb)\n",
    "- Spatial Inequality Analysis\n",
    "- Spatial Regression\n"
   ]
  },
  {
   "cell_type": "code",
   "execution_count": null,
   "metadata": {
    "collapsed": true,
    "deletable": true,
    "editable": true
   },
   "outputs": [],
   "source": []
  }
 ],
 "metadata": {
  "anaconda-cloud": {},
  "kernelspec": {
   "display_name": "GDS",
   "language": "python",
   "name": "gdsbook"
  },
  "language_info": {
   "codemirror_mode": {
    "name": "ipython",
    "version": 3
   },
   "file_extension": ".py",
   "mimetype": "text/x-python",
   "name": "python",
   "nbconvert_exporter": "python",
   "pygments_lexer": "ipython3",
   "version": "3.5.5"
  }
 },
 "nbformat": 4,
 "nbformat_minor": 2
}
