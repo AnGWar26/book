{
 "cells": [
  {
   "cell_type": "markdown",
   "metadata": {},
   "source": [
    "# Spatial Data Processing\n",
    "\n",
    "As we have seen in the previous chapter, spatial data comes in a wide variety\n",
    "of forms. Much of  the power of spatial analysis flows from the ability\n",
    "to consider the spatial relationships between processes reflected in different\n",
    "geographical datasets. We can also leverage spatatial analysis to consider the\n",
    "geographical relationships between observations from the *same* dataset.\n",
    "**Deterministic spatial analysis** formalizes these spatial relationships.\n",
    " By deterministic we mean that the geometric coordinates of the\n",
    "spatial objects are free from any noise, error, or random variation. The focus\n",
    "of deterministic analysis is then on the spatial predicates, topologically\n",
    "invariant binary-spatial relationships, between spatial entities. These spatial\n",
    "predicates power spatial database systems such\n",
    "as PostGIS, Oracle Spatial, and others.  "
   ]
  },
  {
   "cell_type": "markdown",
   "metadata": {},
   "source": [
    "The types of questions/queries that deterministic analysis can answer include:\n",
    "\n",
    "- *Given two data series, one of points and one of polygons, find the polygon\n",
    "  that containing each point*.\n",
    "- *How many points from the first series, does each polygon in the second\n",
    "  series contain*?\n",
    "- *Given a set of coffee shops, represented as  points in a city, and a list of\n",
    "  addresses for rental properties, determine the\n",
    "  closest coffee shop for each rental property*\n",
    "\n",
    "In this chapter we explore the use of several different forms of deterministic\n",
    "spatial analysis, through two example *Vignettes*. We begin with a point\n",
    "dataset that reports the location of airports across the world. Using the\n",
    "airports, we will explore different types of spatial queries that filter the\n",
    "data by regions. We also combine the point data set with a polygonal dataset\n",
    "for countries and carry out a spatial join that defines the country for each\n",
    "airport. The second vignette focuses on a point dataset representing Airbnb\n",
    "listings in San Diego, California. We explore the listing prices across the\n",
    "point set and then use spatial joins to aggregate the prices by census tracts.\n",
    "We also combine the Airbnb data with a second point set on cafe locations in\n",
    "the region to carry out a market analysis of potential demand for each cafe\n",
    "using spatial tessellations.\n",
    "\n",
    "## Vignette: Airports \n",
    "\n",
    "Airports are interesting entities. They are nodes that connect a network of national and international flows, and are its most visible realization. Where they are located is a function of several factors such as the population they are trying to serve, their level of income, the demand for flying, etc. However their exact location is far from the only possible one. Physically speaking, an airport could be built in many more places than where it ends up. This make the process behind an interesting one to explore through the overall \"appearance\" of their locations; that is, through its pattern.\n",
    "\n",
    "In this vignette, we will use a preprocessed open dataset. This dataset provides the location of airports in many different countries, alongside an indication of their size and importance to the air transit network. Before we start analyzing it, we need to load it:"
   ]
  },
  {
   "cell_type": "code",
   "execution_count": 26,
   "metadata": {},
   "outputs": [
    {
     "data": {
      "text/html": [
       "<div>\n",
       "<style scoped>\n",
       "    .dataframe tbody tr th:only-of-type {\n",
       "        vertical-align: middle;\n",
       "    }\n",
       "\n",
       "    .dataframe tbody tr th {\n",
       "        vertical-align: top;\n",
       "    }\n",
       "\n",
       "    .dataframe thead th {\n",
       "        text-align: right;\n",
       "    }\n",
       "</style>\n",
       "<table border=\"1\" class=\"dataframe\">\n",
       "  <thead>\n",
       "    <tr style=\"text-align: right;\">\n",
       "      <th></th>\n",
       "      <th>scalerank</th>\n",
       "      <th>featurecla</th>\n",
       "      <th>type</th>\n",
       "      <th>name</th>\n",
       "      <th>abbrev</th>\n",
       "      <th>location</th>\n",
       "      <th>gps_code</th>\n",
       "      <th>iata_code</th>\n",
       "      <th>wikipedia</th>\n",
       "      <th>natlscale</th>\n",
       "      <th>...</th>\n",
       "      <th>name_ru</th>\n",
       "      <th>name_sv</th>\n",
       "      <th>name_tr</th>\n",
       "      <th>name_vi</th>\n",
       "      <th>name_zh</th>\n",
       "      <th>wdid_score</th>\n",
       "      <th>ne_id</th>\n",
       "      <th>x</th>\n",
       "      <th>y</th>\n",
       "      <th>geometry</th>\n",
       "    </tr>\n",
       "  </thead>\n",
       "  <tbody>\n",
       "    <tr>\n",
       "      <th>0</th>\n",
       "      <td>9</td>\n",
       "      <td>Airport</td>\n",
       "      <td>small</td>\n",
       "      <td>Sahnewal</td>\n",
       "      <td>LUH</td>\n",
       "      <td>terminal</td>\n",
       "      <td>VILD</td>\n",
       "      <td>LUH</td>\n",
       "      <td>http://en.wikipedia.org/wiki/Sahnewal_Airport</td>\n",
       "      <td>8.0</td>\n",
       "      <td>...</td>\n",
       "      <td>None</td>\n",
       "      <td>Ludhiana Airport</td>\n",
       "      <td>None</td>\n",
       "      <td>None</td>\n",
       "      <td>None</td>\n",
       "      <td>4</td>\n",
       "      <td>1159113785</td>\n",
       "      <td>8.455503e+06</td>\n",
       "      <td>3.613331e+06</td>\n",
       "      <td>POINT (8455502.604 3613330.733)</td>\n",
       "    </tr>\n",
       "    <tr>\n",
       "      <th>1</th>\n",
       "      <td>9</td>\n",
       "      <td>Airport</td>\n",
       "      <td>mid</td>\n",
       "      <td>Solapur</td>\n",
       "      <td>SSE</td>\n",
       "      <td>terminal</td>\n",
       "      <td>VASL</td>\n",
       "      <td>SSE</td>\n",
       "      <td>http://en.wikipedia.org/wiki/Solapur_Airport</td>\n",
       "      <td>8.0</td>\n",
       "      <td>...</td>\n",
       "      <td>None</td>\n",
       "      <td>None</td>\n",
       "      <td>None</td>\n",
       "      <td>None</td>\n",
       "      <td>None</td>\n",
       "      <td>4</td>\n",
       "      <td>1159113803</td>\n",
       "      <td>8.452830e+06</td>\n",
       "      <td>1.993750e+06</td>\n",
       "      <td>POINT (8452829.548 1993750.242)</td>\n",
       "    </tr>\n",
       "    <tr>\n",
       "      <th>2</th>\n",
       "      <td>9</td>\n",
       "      <td>Airport</td>\n",
       "      <td>mid</td>\n",
       "      <td>Birsa Munda</td>\n",
       "      <td>IXR</td>\n",
       "      <td>terminal</td>\n",
       "      <td>VERC</td>\n",
       "      <td>IXR</td>\n",
       "      <td>http://en.wikipedia.org/wiki/Birsa_Munda_Airport</td>\n",
       "      <td>8.0</td>\n",
       "      <td>...</td>\n",
       "      <td>None</td>\n",
       "      <td>M. O. Ranchi</td>\n",
       "      <td>None</td>\n",
       "      <td>Sân bay Birsa Munda</td>\n",
       "      <td>蘭契</td>\n",
       "      <td>4</td>\n",
       "      <td>1159113831</td>\n",
       "      <td>9.498179e+06</td>\n",
       "      <td>2.670488e+06</td>\n",
       "      <td>POINT (9498179.375 2670487.543)</td>\n",
       "    </tr>\n",
       "    <tr>\n",
       "      <th>3</th>\n",
       "      <td>9</td>\n",
       "      <td>Airport</td>\n",
       "      <td>mid</td>\n",
       "      <td>Ahwaz</td>\n",
       "      <td>AWZ</td>\n",
       "      <td>terminal</td>\n",
       "      <td>OIAW</td>\n",
       "      <td>AWZ</td>\n",
       "      <td>http://en.wikipedia.org/wiki/Ahwaz_Airport</td>\n",
       "      <td>8.0</td>\n",
       "      <td>...</td>\n",
       "      <td>None</td>\n",
       "      <td>Ahwaz International Airport</td>\n",
       "      <td>Ahvaz Havalimanı</td>\n",
       "      <td>Sân bay Ahvaz</td>\n",
       "      <td>阿瓦士</td>\n",
       "      <td>4</td>\n",
       "      <td>1159113845</td>\n",
       "      <td>5.426503e+06</td>\n",
       "      <td>3.677395e+06</td>\n",
       "      <td>POINT (5426503.078 3677395.464)</td>\n",
       "    </tr>\n",
       "    <tr>\n",
       "      <th>4</th>\n",
       "      <td>9</td>\n",
       "      <td>Airport</td>\n",
       "      <td>mid and military</td>\n",
       "      <td>Gwalior</td>\n",
       "      <td>GWL</td>\n",
       "      <td>terminal</td>\n",
       "      <td>VIGR</td>\n",
       "      <td>GWL</td>\n",
       "      <td>http://en.wikipedia.org/wiki/Gwalior_Airport</td>\n",
       "      <td>8.0</td>\n",
       "      <td>...</td>\n",
       "      <td>None</td>\n",
       "      <td>Gwalior Airport</td>\n",
       "      <td>None</td>\n",
       "      <td>Sân bay Gwalior</td>\n",
       "      <td>瓜廖爾</td>\n",
       "      <td>4</td>\n",
       "      <td>1159113863</td>\n",
       "      <td>8.707101e+06</td>\n",
       "      <td>3.034483e+06</td>\n",
       "      <td>POINT (8707100.952 3034482.999)</td>\n",
       "    </tr>\n",
       "  </tbody>\n",
       "</table>\n",
       "<p>5 rows × 38 columns</p>\n",
       "</div>"
      ],
      "text/plain": [
       "   scalerank featurecla              type         name abbrev  location  \\\n",
       "0          9    Airport             small     Sahnewal    LUH  terminal   \n",
       "1          9    Airport               mid      Solapur    SSE  terminal   \n",
       "2          9    Airport               mid  Birsa Munda    IXR  terminal   \n",
       "3          9    Airport               mid        Ahwaz    AWZ  terminal   \n",
       "4          9    Airport  mid and military      Gwalior    GWL  terminal   \n",
       "\n",
       "  gps_code iata_code                                         wikipedia  \\\n",
       "0     VILD       LUH     http://en.wikipedia.org/wiki/Sahnewal_Airport   \n",
       "1     VASL       SSE      http://en.wikipedia.org/wiki/Solapur_Airport   \n",
       "2     VERC       IXR  http://en.wikipedia.org/wiki/Birsa_Munda_Airport   \n",
       "3     OIAW       AWZ        http://en.wikipedia.org/wiki/Ahwaz_Airport   \n",
       "4     VIGR       GWL      http://en.wikipedia.org/wiki/Gwalior_Airport   \n",
       "\n",
       "   natlscale  ... name_ru                      name_sv           name_tr  \\\n",
       "0        8.0  ...    None             Ludhiana Airport              None   \n",
       "1        8.0  ...    None                         None              None   \n",
       "2        8.0  ...    None                 M. O. Ranchi              None   \n",
       "3        8.0  ...    None  Ahwaz International Airport  Ahvaz Havalimanı   \n",
       "4        8.0  ...    None              Gwalior Airport              None   \n",
       "\n",
       "               name_vi name_zh wdid_score       ne_id             x  \\\n",
       "0                 None    None          4  1159113785  8.455503e+06   \n",
       "1                 None    None          4  1159113803  8.452830e+06   \n",
       "2  Sân bay Birsa Munda      蘭契          4  1159113831  9.498179e+06   \n",
       "3        Sân bay Ahvaz     阿瓦士          4  1159113845  5.426503e+06   \n",
       "4      Sân bay Gwalior     瓜廖爾          4  1159113863  8.707101e+06   \n",
       "\n",
       "              y                         geometry  \n",
       "0  3.613331e+06  POINT (8455502.604 3613330.733)  \n",
       "1  1.993750e+06  POINT (8452829.548 1993750.242)  \n",
       "2  2.670488e+06  POINT (9498179.375 2670487.543)  \n",
       "3  3.677395e+06  POINT (5426503.078 3677395.464)  \n",
       "4  3.034483e+06  POINT (8707100.952 3034482.999)  \n",
       "\n",
       "[5 rows x 38 columns]"
      ]
     },
     "execution_count": 26,
     "metadata": {},
     "output_type": "execute_result"
    }
   ],
   "source": [
    "import pandas as pd\n",
    "import geopandas as gpd\n",
    "# Load GeoJSON file\n",
    "air = gpd.read_file('../data/airports/airports_clean.geojson')\n",
    "# Check top of the table\n",
    "air.head()"
   ]
  },
  {
   "cell_type": "markdown",
   "metadata": {},
   "source": [
    "At first brush, a point pattern is essentially the collective shape a bunch of points create. Given the table contains the coordinates of each airport in a map projection, the quickest way to get a first sense of what the data look like is to plot the coordinates of airports as points, like a scatterplot:"
   ]
  },
  {
   "cell_type": "code",
   "execution_count": 27,
   "metadata": {},
   "outputs": [
    {
     "data": {
      "text/plain": [
       "<matplotlib.collections.PathCollection at 0x7fc45232b340>"
      ]
     },
     "execution_count": 27,
     "metadata": {},
     "output_type": "execute_result"
    },
    {
     "data": {
      "image/png": "[encoded data removed]",
      "text/plain": [
       "<Figure size 432x288 with 1 Axes>"
      ]
     },
     "metadata": {
      "needs_background": "light"
     },
     "output_type": "display_data"
    }
   ],
   "source": [
    "# Plot XY coordinates\n",
    "import matplotlib.pyplot as plt\n",
    "plt.scatter(air.x, air.y)"
   ]
  },
  {
   "cell_type": "markdown",
   "metadata": {},
   "source": [
    "This is not very pretty but that is not our purpose. Our goal was to get a quick first picture and this approach has done the job. Things we can learn from this figure include the fact the overall shape should look familiar to anyone who's seen a map of the world and that, thus, the data do not seem to have any obvious errors. We can then move on to do more interesting things with it.\n",
    "\n",
    "The first extension is to bring geographic context. Although the shape of the figure above might be familiar, it still takes some effort to identify where different dots are placed on the surface of the Earth. An easy solution to make this easier is to overlay it with a tile map downloaded from the internet. Let us do just that. \n",
    "\n",
    "First, we'll download the tiles into an image object, and then we will plot it together with the airports dataset."
   ]
  },
  {
   "cell_type": "code",
   "execution_count": 28,
   "metadata": {},
   "outputs": [
    {
     "name": "stdout",
     "output_type": "stream",
     "text": [
      "CPU times: user 15.1 ms, sys: 436 µs, total: 15.6 ms\n",
      "Wall time: 14.8 ms\n"
     ]
    }
   ],
   "source": [
    "import contextily as ctx\n",
    "# Download tiles for the bounding box of the airport's GeoDataFrame\n",
    "%time img, ext = ctx.bounds2img(*air.total_bounds, 2)"
   ]
  },
  {
   "cell_type": "markdown",
   "metadata": {},
   "source": [
    "The method `bounds2img` (from the library `contextily`, `ctx` for short) returns the image object (`img`) and also an auxilliary tuple with its exact geographic bounds:"
   ]
  },
  {
   "cell_type": "code",
   "execution_count": 29,
   "metadata": {},
   "outputs": [
    {
     "data": {
      "text/plain": [
       "(-20037508.342789244,\n",
       " 20037508.342789244,\n",
       " -10018754.171394624,\n",
       " 20037508.342789244)"
      ]
     },
     "execution_count": 29,
     "metadata": {},
     "output_type": "execute_result"
    }
   ],
   "source": [
    "ext"
   ]
  },
  {
   "cell_type": "markdown",
   "metadata": {},
   "source": [
    "This allows us then to match it up with other data which is also expressed in the same coordinate reference system (CRS). Let us produce a slightly more useful image than above:"
   ]
  },
  {
   "cell_type": "code",
   "execution_count": 30,
   "metadata": {},
   "outputs": [
    {
     "data": {
      "image/png": "[encoded data removed]",
      "text/plain": [
       "<Figure size 648x648 with 1 Axes>"
      ]
     },
     "metadata": {
      "needs_background": "light"
     },
     "output_type": "display_data"
    }
   ],
   "source": [
    "# Set up figure and axes\n",
    "f, ax = plt.subplots(1, figsize=(9, 9))\n",
    "# Display tile map\n",
    "ax.imshow(img, extent=ext)\n",
    "# Display airports on top\n",
    "ax.scatter(air.x, air.y, c='purple', s=2)\n",
    "# Remove axis\n",
    "ax.set_axis_off()\n",
    "# Add title\n",
    "ax.set_title('World Airports Dataset')\n",
    "# Display\n",
    "plt.show()"
   ]
  },
  {
   "cell_type": "markdown",
   "metadata": {},
   "source": [
    "Now this looks a bit better!\n",
    "\n",
    "### Point-in-polygon visualization\n",
    "\n",
    "Commonly, we either need or want to link points to areal geographies that allow us to augment their attribute list, or to look at the problem at hand from a new perspective. Maybe because the process we are interested in operates at a more aggregated level, or maybe because by aggregating we can obtain a view into the data that makes it simpler to understand. \n",
    "\n",
    "For example, the figure above gives us a good sense about how airports are distributed overall but, in particularly dense areas like Europe, it is hard to see much. By aggregating them to say the country geography, we can consider new sets of questions such as which countries have most airports or which ones have a larger density. This works because the geography we want to aggregate it to, countries, is meaningful. This means it has some inherent structure that confers value. In this case, countries are relevant entities and a crucial piece in arranging the world.\n",
    "\n",
    "The first thing we need to do to create a country map is to have country (spatial) data. Let us load up a cleaned table with countries:"
   ]
  },
  {
   "cell_type": "code",
   "execution_count": 31,
   "metadata": {},
   "outputs": [],
   "source": [
    "# Load up shapefile with countries\n",
    "ctys = gpd.read_file('../data/countries/countries_clean.gpkg')"
   ]
  },
  {
   "cell_type": "markdown",
   "metadata": {},
   "source": [
    "And, same as with any new dataset, let us have a quick look at what it looks like and how it stacks up with the other data we have collected along the way:"
   ]
  },
  {
   "cell_type": "code",
   "execution_count": 32,
   "metadata": {},
   "outputs": [
    {
     "data": {
      "image/png": "[encoded data removed]",
      "text/plain": [
       "<Figure size 648x648 with 1 Axes>"
      ]
     },
     "metadata": {
      "needs_background": "light"
     },
     "output_type": "display_data"
    }
   ],
   "source": [
    "# Set up figure and axis\n",
    "f, ax = plt.subplots(1, figsize=(9, 9))\n",
    "# Add tile map\n",
    "ax.imshow(img, extent=ext)\n",
    "# Display country layer\n",
    "ctys.plot(ax=ax, linewidth=0.1, \\\n",
    "          edgecolor='0.8', color='0.2')\n",
    "# Display airport locations\n",
    "ax.scatter(air.x, air.y, c='yellow', s=2, linewidth=0.)\n",
    "# Remove axis\n",
    "ax.set_axis_off()\n",
    "# Add title\n",
    "ax.set_title('World Airports Dataset')\n",
    "# Display\n",
    "plt.show()"
   ]
  },
  {
   "cell_type": "markdown",
   "metadata": {},
   "source": [
    "Again nothing new or too exciting from this figure, but this is good news: it means our data are aligned and match up nicely. So we can move on to more interesting ventures.\n",
    "\n",
    "The next thing that we might want to do to obtain country counts of airports is to link each airport with the country where it is located. Sometimes, we are lucky and the airport table will include a column with that information. In this case, we need to create it for ourselves. This is a well-known problem in geometry and GIS and is commonly known as point-in-polygon: to determine whether a given point is inside a polygon. With that operation solved, linking airports to countries amoutns to a bit of house keeping. We will first explore in pure Python how that algorithm can be easily implemented from scratch so it becomes clear what steps are involved; then we will see a much more efficient and fast implementation that we should probably use when need to perform this operation in other contexts."
   ]
  },
  {
   "cell_type": "markdown",
   "metadata": {},
   "source": [
    "Creating a manual, brute-force implementation of a spatial join is not very difficult, if one has solved the problem of checking whether a point is inside a polygon or not. Thanks to the library that provides geometry objects to `geopandas` (`shapely`), this is solved in Python. For example, we can easily check if the first dot on the airports table is inside the first polygon in the countries table:"
   ]
  },
  {
   "cell_type": "code",
   "execution_count": 33,
   "metadata": {},
   "outputs": [
    {
     "data": {
      "text/plain": [
       "False"
      ]
     },
     "execution_count": 33,
     "metadata": {},
     "output_type": "execute_result"
    }
   ],
   "source": [
    "# Single out point\n",
    "pt = air.iloc[0]['geometry']\n",
    "# Single out polygon\n",
    "poly = ctys.iloc[0]['geometry']\n",
    "# Check whether `poly` contains `pt`\n",
    "poly.contains(pt)"
   ]
  },
  {
   "cell_type": "markdown",
   "metadata": {},
   "source": [
    "That easy. As we can see, the method `contains` in any `shapely` geometry makes it trivial. So, the first airport in the list is not in the first country of the list.\n",
    "\n",
    "To find which country every airport is in easily (albeit not very efficiently!), we need to sift through all possible combinations to see if any of them gives us a match. Once we find it for a given airport, we need to record that and move on, no need to keep checking. That is exactly what we do in the cell below:"
   ]
  },
  {
   "cell_type": "code",
   "execution_count": 34,
   "metadata": {},
   "outputs": [
    {
     "name": "stdout",
     "output_type": "stream",
     "text": [
      "CPU times: user 16.2 s, sys: 7.74 ms, total: 16.2 s\n",
      "Wall time: 16.2 s\n"
     ]
    }
   ],
   "source": [
    "%%time\n",
    "# Set up an empty dictionary to populate it with the matches\n",
    "airport2country = {aID: None for aID in air.index}\n",
    "# Loop over every airport\n",
    "for aID, row_a in air.iterrows():\n",
    "    # Single out location of the airport for convenience\n",
    "    pt = row_a['geometry']\n",
    "    # Loop over every country\n",
    "    for cID, row_p in ctys.iterrows():\n",
    "        # Single out country polygon for convenience\n",
    "        poly = row_p['geometry']\n",
    "        # Single out country name for convenience\n",
    "        cty_nm = row_p['ADMIN']\n",
    "        # Check if the country contains the airport\n",
    "        if poly.contains(pt):\n",
    "            # If so, store in the dictionary\n",
    "            airport2country[aID] = cty_nm\n",
    "            # Move on to the next airport, skipping remaining \n",
    "            # countries (an airport cannot be in two countries \n",
    "            # at the same time)\n",
    "            break\n",
    "airport2country = pd.Series(airport2country)"
   ]
  },
  {
   "cell_type": "markdown",
   "metadata": {},
   "source": [
    "Once run, we can check the content of the dictionary we have created (after converting it to a `Series` for convenience):"
   ]
  },
  {
   "cell_type": "code",
   "execution_count": null,
   "metadata": {},
   "outputs": [],
   "source": [
    "pd.DataFrame({'Airport Name': air['name'], 'Country': airport2country}).head(10)"
   ]
  },
  {
   "cell_type": "markdown",
   "metadata": {},
   "source": [
    "---"
   ]
  },
  {
   "cell_type": "markdown",
   "metadata": {},
   "source": [
    "Although interesting from a pedagogical standpoint, in practive, very rarely do we have to write a spatial join algorithm from scratch. More commonly, we will use one of the already available packaged methods. As mentioned, this is a fairly standard GIS operation, and the GIS community has spent a lot of effort to build optimized algorithms that can conveniently do the job for us. In `GeoPandas`, this is as simple as calling `sjoin`:"
   ]
  },
  {
   "cell_type": "code",
   "execution_count": null,
   "metadata": {},
   "outputs": [],
   "source": [
    "# Spatial join\n",
    "%time air_w_cty = gpd.sjoin(air, ctys)\n",
    "air_w_cty.head()"
   ]
  },
  {
   "cell_type": "markdown",
   "metadata": {},
   "source": [
    "Instead of the $\\approx$47 seconds it took our homemade algorithm, the one above did a full join in just over two seconds! Through this join also, it is not only the IDs that are matched, but the entire table. Let us quickly compare whether the names match up with our own:"
   ]
  },
  {
   "cell_type": "code",
   "execution_count": null,
   "metadata": {},
   "outputs": [],
   "source": [
    "# Display only top six records of airport and country name\n",
    "# Note that the order of the `sjoin`ed table is not the same\n",
    "# as ours but it can easily be rearranged using original indices\n",
    "air_w_cty.loc[range(6), ['name', 'ADMIN']]"
   ]
  },
  {
   "cell_type": "markdown",
   "metadata": {},
   "source": [
    "Voila! Both tables seem to match nicely.\n",
    "\n",
    "To finish this vignette, let us explore which countries have the most airports through a simple choropleth. The only additional step we need to take is to obtain counts per country. But this is pretty straightforward now we have them linked to each airport. To do this, we use the `groupby` operation which, well, groups by a given column in a table, and then we apply the method `size`, which tells us how many elements every group has:"
   ]
  },
  {
   "cell_type": "code",
   "execution_count": null,
   "metadata": {},
   "outputs": [],
   "source": [
    "# Group airports by country and count by group\n",
    "cty_counts = air_w_cty.groupby('ADMIN')\\\n",
    "                      .size()"
   ]
  },
  {
   "cell_type": "markdown",
   "metadata": {},
   "source": [
    "Then a choropleth is as simple as:"
   ]
  },
  {
   "cell_type": "code",
   "execution_count": null,
   "metadata": {},
   "outputs": [],
   "source": [
    "# Set up figure and axis\n",
    "f, ax = plt.subplots(1, figsize=(9, 9))\n",
    "# Index countries by the name, append the airport counts\n",
    "# (which are themselves indexed on country names too),\n",
    "# Fill any missing value in the count with zero (no counts\n",
    "# in this context means zero airports), and display choropleth\n",
    "# using quantiles\n",
    "p = ctys.set_index('ADMIN')\\\n",
    "        .assign(airport_count=cty_counts)\\\n",
    "        .fillna(0)\\\n",
    "        .plot(column='airport_count', scheme='Quantiles', \\\n",
    "              ax=ax, linewidth=0, legend=True)\n",
    "# Display map\n",
    "plt.show()"
   ]
  },
  {
   "cell_type": "markdown",
   "metadata": {},
   "source": [
    "Maybe unsurprisingly, what we find after all of this is that larger countries such as Canada, US, or Russia, have more airports. However, we can also find interesting insights. Some countries with similar size, such as France or Germany and some African countries such as Namibia have very different numbers. This should trigger further questions as to why that is, and maybe even suggest some tentative answers.\n",
    "\n",
    "And additional view that might be of interest is to display airport counts, but weighted by the area of the country. In other words, to show airport density. The idea behind it is to explore the variation in probabilities of an airport to be located in a given country, irrespective of how large that country is. Let us first create the densities:"
   ]
  },
  {
   "cell_type": "code",
   "execution_count": null,
   "metadata": {},
   "outputs": [],
   "source": [
    "# Airport density\n",
    "# Note since the CRS we are working with is expressed in Sq. metres,\n",
    "# we rescale it so the numbers are easier to read\n",
    "airport_density = cty_counts * 1e12 / ctys.set_index('ADMIN').area\n",
    "\n",
    "airport_density.head()"
   ]
  },
  {
   "cell_type": "markdown",
   "metadata": {},
   "source": [
    "And now we are ready to plot!"
   ]
  },
  {
   "cell_type": "code",
   "execution_count": null,
   "metadata": {},
   "outputs": [],
   "source": [
    "# Set up figure and axis\n",
    "f, ax = plt.subplots(1, figsize=(9, 9))\n",
    "# Index countries by the name, append the airport densities\n",
    "# (which are themselves indexed on country names too),\n",
    "# Fill any missing value in the count with zero (no number\n",
    "# in this context means zero airports), and display choropleth\n",
    "# using quantiles\n",
    "p = ctys.set_index('ADMIN')\\\n",
    "        .assign(airport_dens=airport_density)\\\n",
    "        .fillna(0)\\\n",
    "        .plot(column='airport_dens', scheme='Quantiles', \\\n",
    "              ax=ax, linewidth=0, legend=True)\n",
    "# Display map\n",
    "plt.show()"
   ]
  },
  {
   "cell_type": "markdown",
   "metadata": {},
   "source": [
    "This map gives us a very different view. Very large countries are all of a sudden \"penalized\" and some smaller ones rise to the highest values. Again, how to read this map and whether its message is interesting or not depends on what we are after. But, together with the previous one, it does highlight important issues to consider when exploring uneven spatial data and what it means to display data (e.g. airports) through specific geographies (e.g. countries).\n"
   ]
  },
  {
   "cell_type": "markdown",
   "metadata": {},
   "source": [
    "## Vignette: Airbnb Prices in San Diego\n",
    "\n",
    "Our second vignette changes the spatial scale to examine the distribution of\n",
    "Airbnb listings in San Diego California. We begin by reading the listings, \n",
    " which are stored in a comma separated file (csv):\n"
   ]
  },
  {
   "cell_type": "code",
   "execution_count": null,
   "metadata": {},
   "outputs": [],
   "source": [
    "df = pd.read_csv('../data/sandiego/listings.csv')\n",
    "len(df)\n"
   ]
  },
  {
   "cell_type": "markdown",
   "metadata": {},
   "source": [
    "Examination of the dataframe reveals that the location information is encoded\n",
    "in the columns `longitude` and `latitude`.  We will use these columns together\n",
    "with the `Point` class from **shapely** to create a geodataframe:"
   ]
  },
  {
   "cell_type": "code",
   "execution_count": null,
   "metadata": {},
   "outputs": [],
   "source": [
    "from shapely.geometry import Point"
   ]
  },
  {
   "cell_type": "code",
   "execution_count": null,
   "metadata": {
    "collapsed": false,
    "jupyter": {
     "outputs_hidden": false
    }
   },
   "outputs": [],
   "source": [
    "geometry = [Point(xy) for xy in zip(df['longitude'], df['latitude'])]"
   ]
  },
  {
   "cell_type": "code",
   "execution_count": null,
   "metadata": {},
   "outputs": [],
   "source": [
    "import geopandas as gpd"
   ]
  },
  {
   "cell_type": "code",
   "execution_count": null,
   "metadata": {},
   "outputs": [],
   "source": [
    "gdf = gpd.GeoDataFrame(df)"
   ]
  },
  {
   "cell_type": "code",
   "execution_count": null,
   "metadata": {},
   "outputs": [],
   "source": [
    "gdf['geometry'] = geometry"
   ]
  },
  {
   "cell_type": "code",
   "execution_count": null,
   "metadata": {},
   "outputs": [],
   "source": [
    "gdf.plot()"
   ]
  },
  {
   "cell_type": "markdown",
   "metadata": {},
   "source": [
    "The listings are represented as point objects, and what we are interested in is\n",
    "the spatial distribution of the listing prices across the market. So unlike the\n",
    "airport dataset above where we were focusing on the locations of the points,\n",
    "here we extend the analysis to consider the locations and an attribute that is\n",
    "measured at each of the locations.\n",
    "\n",
    "Before we analyze the spatial distribution of the listings, we have to convert\n",
    "the data type of the listing column as it is currently encoded as a string:"
   ]
  },
  {
   "cell_type": "code",
   "execution_count": null,
   "metadata": {},
   "outputs": [],
   "source": [
    "gdf.price"
   ]
  },
  {
   "cell_type": "code",
   "execution_count": null,
   "metadata": {},
   "outputs": [],
   "source": [
    "gdf['price'] = gdf['price'].apply(lambda x: x.replace('$', '').replace(',', '')).astype(float)"
   ]
  },
  {
   "cell_type": "code",
   "execution_count": null,
   "metadata": {
    "lines_to_next_cell": 0
   },
   "outputs": [],
   "source": [
    "gdf.price"
   ]
  },
  {
   "cell_type": "markdown",
   "metadata": {},
   "source": [
    "\n",
    "\n"
   ]
  },
  {
   "cell_type": "code",
   "execution_count": null,
   "metadata": {
    "lines_to_next_cell": 2
   },
   "outputs": [],
   "source": [
    "crs = {'init': 'epsg:4326'}\n",
    "gdf.crs = crs"
   ]
  },
  {
   "cell_type": "markdown",
   "metadata": {},
   "source": [
    "With the listing variable converted, we can now proceed to visualize the\n",
    "spatial distribution:"
   ]
  },
  {
   "cell_type": "code",
   "execution_count": null,
   "metadata": {
    "lines_to_next_cell": 2
   },
   "outputs": [],
   "source": [
    "gdf.plot(column='price', legend=True, scheme='quantiles', figsize=(16,16))"
   ]
  },
  {
   "cell_type": "markdown",
   "metadata": {},
   "source": [
    "This is somewhat informative, but there are several issues with approaching the\n",
    "analysis in this fashion. Chief among these is the occlusion of listings in\n",
    "areas with high density. The size of the points also makes it challenging to\n",
    "develop a systematic view of the spatial variation in the listing prices.\n",
    "\n",
    "We can address these issues through spatial aggregation. That is, similar to\n",
    "what we did for the airport dataset, we can use a spatial join to associate each\n",
    "listing with its enclosing  polygon. Once we have that information, we can use\n",
    "database methods to perform aggregation queries to get the average listing\n",
    "price per polygon."
   ]
  },
  {
   "cell_type": "markdown",
   "metadata": {},
   "source": [
    "For our polygons we will use census tracts that we have downloaded for the\n",
    "state of California:"
   ]
  },
  {
   "cell_type": "code",
   "execution_count": null,
   "metadata": {},
   "outputs": [],
   "source": [
    "tracts = '../data/sandiego/tl_2019_06_tract.shp'\n",
    "tracts = gpd.read_file(tracts)"
   ]
  },
  {
   "cell_type": "code",
   "execution_count": null,
   "metadata": {},
   "outputs": [],
   "source": [
    "tracts.plot()"
   ]
  },
  {
   "cell_type": "markdown",
   "metadata": {},
   "source": [
    "This gives us all the tracts for the state, but our market analysis is focusing on\n",
    "the case of San Diego. We can use a Pandas query to create a more focused dataframe:"
   ]
  },
  {
   "cell_type": "code",
   "execution_count": null,
   "metadata": {},
   "outputs": [],
   "source": [
    "sd_tracts = tracts[tracts.COUNTYFP=='073']"
   ]
  },
  {
   "cell_type": "code",
   "execution_count": null,
   "metadata": {},
   "outputs": [],
   "source": [
    "sd_tracts.plot()"
   ]
  },
  {
   "cell_type": "markdown",
   "metadata": {},
   "source": [
    "Visual examination of the tracts reveals one idiosyncratic tract. The elongated\n",
    "coastal tract actually has a boundary that extends into the Pacific Ocean.\n",
    "This will induce visual noise in any subsequent analysis, so let's remove it.\n",
    "\n",
    "The question is how to remove it? \n",
    "\n",
    "Fortunately for this case, the tract in question is the extreme west tract, so\n",
    "we can exploit this information to find, and remove, the row in the dataframe:\n"
   ]
  },
  {
   "cell_type": "code",
   "execution_count": null,
   "metadata": {},
   "outputs": [],
   "source": [
    "bounds = sd_tracts.bounds"
   ]
  },
  {
   "cell_type": "code",
   "execution_count": null,
   "metadata": {},
   "outputs": [],
   "source": [
    "bounds"
   ]
  },
  {
   "cell_type": "code",
   "execution_count": null,
   "metadata": {},
   "outputs": [],
   "source": [
    "bounds.minx.min()"
   ]
  },
  {
   "cell_type": "code",
   "execution_count": null,
   "metadata": {},
   "outputs": [],
   "source": [
    "bounds[bounds.minx==bounds.minx.min()]"
   ]
  },
  {
   "cell_type": "code",
   "execution_count": null,
   "metadata": {},
   "outputs": [],
   "source": [
    "sd_tracts[bounds.minx==bounds.minx.min()].plot()"
   ]
  },
  {
   "cell_type": "code",
   "execution_count": null,
   "metadata": {},
   "outputs": [],
   "source": [
    "sd_tracts[bounds.minx!=bounds.minx.min()].plot()"
   ]
  },
  {
   "cell_type": "code",
   "execution_count": null,
   "metadata": {},
   "outputs": [],
   "source": [
    "sd_tracts = sd_tracts[bounds.minx!=bounds.minx.min()]"
   ]
  },
  {
   "cell_type": "markdown",
   "metadata": {},
   "source": [
    "Having removed the coastal tract, we can now do a spatial join to associate a\n",
    "tract with each listing point:"
   ]
  },
  {
   "cell_type": "code",
   "execution_count": null,
   "metadata": {},
   "outputs": [],
   "source": [
    " gdf.geometry"
   ]
  },
  {
   "cell_type": "code",
   "execution_count": null,
   "metadata": {},
   "outputs": [],
   "source": [
    "j = gpd.sjoin(gdf, sd_tracts, how='inner', op='within')"
   ]
  },
  {
   "cell_type": "markdown",
   "metadata": {},
   "source": [
    "We see a warning that alerts us to a problem with the coordinate reference systems\n",
    "being different between the two dataframes. Since our spatial join is based on\n",
    "the spatial relationship of containment (`within`), the CRSs have to be\n",
    "identical for this to be correct.\n",
    "\n",
    "Let's fix this and continue on:"
   ]
  },
  {
   "cell_type": "code",
   "execution_count": null,
   "metadata": {},
   "outputs": [],
   "source": [
    "gdf = gdf.to_crs(sd_tracts.crs)"
   ]
  },
  {
   "cell_type": "code",
   "execution_count": null,
   "metadata": {},
   "outputs": [],
   "source": [
    "j = gpd.sjoin(gdf, sd_tracts, how='inner', op='within')"
   ]
  },
  {
   "cell_type": "code",
   "execution_count": null,
   "metadata": {},
   "outputs": [],
   "source": [
    "j.shape"
   ]
  },
  {
   "cell_type": "markdown",
   "metadata": {},
   "source": [
    "The result of the spatial join is that the listings dataframe has now been\n",
    "extended to add a column that identifies the census tract that contains\n",
    "the point for the listing."
   ]
  },
  {
   "cell_type": "markdown",
   "metadata": {},
   "source": [
    "From the perspective of an individual listing point, this is a *one-to-one* spatial\n",
    "relationship. That is, a point can be within only one census tract, since the\n",
    "census tracts are [planar\n",
    "enforced](https://books.google.com/books?id=-FbVI-2tSuYC&pg=PA186&lpg=PA186&dq=planar+enforcement+theobald&source=bl&ots=SpOsACcrbP&sig=ACfU3U1CPniL-YpWCt0ml--XIP5_d3fkWA&hl=en&sa=X&ved=2ahUKEwjC-5LX1_fqAhWEHzQIHcNwC-8Q6AEwDXoECAoQAQ#v=onepage&q=planar%20enforcement%20theobald&f=false)\n",
    "and do not overlap.\n",
    "\n",
    "From the perspective of the census tracts, the relationship is of a\n",
    "*one-to-many* form, since one census tract can contain multiple listings. \n",
    "And, it is this cardinality that we want to leverage in aggregating the listing\n",
    "information by tract. For example, we can get the number of listings within\n",
    "each census tract using a `grouby` method on the dataframe:\n"
   ]
  },
  {
   "cell_type": "code",
   "execution_count": null,
   "metadata": {},
   "outputs": [],
   "source": [
    "j.groupby(by='GEOID').count()"
   ]
  },
  {
   "cell_type": "code",
   "execution_count": null,
   "metadata": {},
   "outputs": [],
   "source": [
    "j[['price', 'GEOID']]"
   ]
  },
  {
   "cell_type": "markdown",
   "metadata": {},
   "source": [
    "Here we have used the `count` method on the dataframe that is generated from\n",
    "the `groupby`. If we change the `count` method to `mean`, we will get the\n",
    "average listing price by census tract:"
   ]
  },
  {
   "cell_type": "code",
   "execution_count": null,
   "metadata": {},
   "outputs": [],
   "source": [
    "j[['price','GEOID']].groupby(by='GEOID').mean()"
   ]
  },
  {
   "cell_type": "markdown",
   "metadata": {},
   "source": [
    "We then can add this new variable to the tract dataframe:"
   ]
  },
  {
   "cell_type": "code",
   "execution_count": null,
   "metadata": {},
   "outputs": [],
   "source": [
    "tract_mean = j[['price','GEOID']].groupby(by='GEOID').mean()"
   ]
  },
  {
   "cell_type": "code",
   "execution_count": null,
   "metadata": {},
   "outputs": [],
   "source": [
    "sd_tracts = sd_tracts.merge(tract_mean, on='GEOID')"
   ]
  },
  {
   "cell_type": "markdown",
   "metadata": {},
   "source": [
    "and plot the average listing price by census tract:"
   ]
  },
  {
   "cell_type": "code",
   "execution_count": null,
   "metadata": {},
   "outputs": [],
   "source": [
    "sd_tracts.plot(column='price',legend=True, figsize=(16,16), scheme='quantiles')"
   ]
  },
  {
   "cell_type": "markdown",
   "metadata": {},
   "source": [
    "Let's add in a basemap for some context:"
   ]
  },
  {
   "cell_type": "code",
   "execution_count": null,
   "metadata": {},
   "outputs": [],
   "source": [
    "west, south, east, north = sd_tracts.total_bounds"
   ]
  },
  {
   "cell_type": "code",
   "execution_count": null,
   "metadata": {},
   "outputs": [],
   "source": [
    "%time img, ext = ctx.bounds2img(west, south, east, north, ll=True, zoom=11)"
   ]
  },
  {
   "cell_type": "code",
   "execution_count": null,
   "metadata": {},
   "outputs": [],
   "source": [
    "sd_tracts = sd_tracts.to_crs(epsg=3857)"
   ]
  },
  {
   "cell_type": "code",
   "execution_count": null,
   "metadata": {},
   "outputs": [],
   "source": [
    "# Set up figure and axes\n",
    "f, ax = plt.subplots(1, figsize=(16, 16))\n",
    "# Display tile map\n",
    "ax.imshow(img, extent=ext)\n",
    "# Display airports on top\n",
    "sd_tracts.plot(ax=ax, alpha=0.6, color='green',edgecolor='lightgrey')\n",
    "#listings.plot(ax=ax, c='green')\n",
    "#ax.scatter(air.x, air.y, c='purple', s=2)\n",
    "# Remove axis\n",
    "#ax.set_axis_off()\n",
    "# Add title\n",
    "ax.set_title('San Diego Tracts with Listings')\n",
    "# Display\n",
    "plt.show()\n"
   ]
  },
  {
   "cell_type": "code",
   "execution_count": null,
   "metadata": {},
   "outputs": [],
   "source": [
    "# Set up figure and axes\n",
    "f, ax = plt.subplots(1, figsize=(16, 16))\n",
    "# Display tile map\n",
    "ax.imshow(img, extent=ext)\n",
    "# Display airports on top\n",
    "sd_tracts.plot(ax=ax, alpha=0.6, edgecolor='lightgrey',\n",
    "              column='price', legend=True, scheme='quantiles')\n",
    "#listings.plot(ax=ax, c='green')\n",
    "#ax.scatter(air.x, air.y, c='purple', s=2)\n",
    "# Remove axis\n",
    "#ax.set_axis_off()\n",
    "# Add title\n",
    "ax.set_title('San Diego Tracts Listing Prices')\n",
    "# Display\n",
    "plt.show()\n"
   ]
  },
  {
   "cell_type": "markdown",
   "metadata": {},
   "source": [
    "The visual analysis of the listing prices at the tract scale has addressed the\n",
    "problems we encountered in analyzing the points layer directly. There is a\n",
    "trade-off as we switch from the point to areal unit layers, as the latter\n",
    "results from an aggregation of the information in the former. In subsequent\n",
    "chapters, we will be introducing methods that are appropriate for the deeper\n",
    "statistical analysis of these different types of spatial support. Here we only\n",
    "wanted to introduce methods of spatial data processing that allow us to\n",
    "construct the variables and layers that would feed into those analyses.\n"
   ]
  },
  {
   "cell_type": "markdown",
   "metadata": {},
   "source": [
    "### Cafe Sheds\n",
    "\n",
    "We close this chapter with the application of a final set of deterministic\n",
    "spatial analytical methods that provide insights on the market structure of\n",
    "cafes in the San Diego region.\n",
    "\n",
    "Our data come from OpenStreetMap and have been extracted using QGIS and the OSM\n",
    "plugin to create a geopackage that we read in here:"
   ]
  },
  {
   "cell_type": "code",
   "execution_count": null,
   "metadata": {},
   "outputs": [],
   "source": [
    "cafes = gpd.read_file('../data/sandiego/sdcafes.gpkg')"
   ]
  },
  {
   "cell_type": "markdown",
   "metadata": {},
   "source": [
    "We can explore this data frame through some plotting and introspection:"
   ]
  },
  {
   "cell_type": "code",
   "execution_count": null,
   "metadata": {},
   "outputs": [],
   "source": [
    "cafes.plot()"
   ]
  },
  {
   "cell_type": "code",
   "execution_count": null,
   "metadata": {},
   "outputs": [],
   "source": [
    "cafes.crs"
   ]
  },
  {
   "cell_type": "markdown",
   "metadata": {},
   "source": [
    "Again, we grab a basemap for context:"
   ]
  },
  {
   "cell_type": "code",
   "execution_count": null,
   "metadata": {},
   "outputs": [],
   "source": [
    "west, south, east, north = cafes.total_bounds\n"
   ]
  },
  {
   "cell_type": "code",
   "execution_count": null,
   "metadata": {},
   "outputs": [],
   "source": [
    "%time img, ext = ctx.bounds2img(west, south, east, north, ll=True, zoom=11)"
   ]
  },
  {
   "cell_type": "code",
   "execution_count": null,
   "metadata": {},
   "outputs": [],
   "source": [
    "ext"
   ]
  },
  {
   "cell_type": "code",
   "execution_count": null,
   "metadata": {
    "lines_to_next_cell": 0
   },
   "outputs": [],
   "source": [
    "cafes.total_bounds"
   ]
  },
  {
   "cell_type": "markdown",
   "metadata": {},
   "source": [
    "and we need to set the CRS of our cafes, and listings, to web mercator so that we\n",
    "can plot them together with our basemap to get a better understanding of the\n",
    "spatial relationships between the cafes and the airbnb listings:"
   ]
  },
  {
   "cell_type": "code",
   "execution_count": null,
   "metadata": {},
   "outputs": [],
   "source": [
    "cafes = cafes.to_crs(epsg=3857)"
   ]
  },
  {
   "cell_type": "code",
   "execution_count": null,
   "metadata": {},
   "outputs": [],
   "source": [
    "listings = j.to_crs(epsg=3857)"
   ]
  },
  {
   "cell_type": "code",
   "execution_count": null,
   "metadata": {},
   "outputs": [],
   "source": [
    "# Set up figure and axes\n",
    "f, ax = plt.subplots(1, figsize=(9, 9))\n",
    "# Display tile map\n",
    "ax.imshow(img, extent=ext)\n",
    "# Display airports on top\n",
    "cafes.plot(ax=ax, c='purple')\n",
    "listings.plot(ax=ax, c='green')\n",
    "#ax.scatter(air.x, air.y, c='purple', s=2)\n",
    "# Remove axis\n",
    "#ax.set_axis_off()\n",
    "# Add title\n",
    "ax.set_title('San Diego Cafes (Purple) and Air BnB Listings (Green)')\n",
    "# Display\n",
    "plt.show()\n"
   ]
  },
  {
   "cell_type": "markdown",
   "metadata": {},
   "source": [
    "We see that the spatial extent of the cafes is much larger than that of the\n",
    "listings, so let's subset our cafes to those within the extent of the listings:"
   ]
  },
  {
   "cell_type": "code",
   "execution_count": null,
   "metadata": {},
   "outputs": [],
   "source": [
    "listings.total_bounds"
   ]
  },
  {
   "cell_type": "code",
   "execution_count": null,
   "metadata": {},
   "outputs": [],
   "source": [
    "%time img, ext = ctx.bounds2img(*listings.total_bounds, zoom=11)"
   ]
  },
  {
   "cell_type": "code",
   "execution_count": null,
   "metadata": {},
   "outputs": [],
   "source": [
    "w,s,e,n = listings.total_bounds"
   ]
  },
  {
   "cell_type": "code",
   "execution_count": null,
   "metadata": {},
   "outputs": [],
   "source": [
    "cafes = cafes.cx[w:e,s:n]"
   ]
  },
  {
   "cell_type": "code",
   "execution_count": null,
   "metadata": {},
   "outputs": [],
   "source": [
    "# Set up figure and axes\n",
    "f, ax = plt.subplots(1, figsize=(9, 9))\n",
    "# Display tile map\n",
    "ax.imshow(img, extent=ext)\n",
    "# Display airports on top\n",
    "listings.plot(ax=ax, c='green')\n",
    "cafes.plot(ax=ax, c='purple', alpha=0.5)\n",
    "\n",
    "#ax.scatter(air.x, air.y, c='purple', s=2)\n",
    "# Remove axis\n",
    "#ax.set_axis_off()\n",
    "# Add title\n",
    "ax.set_title('San Diego Cafes (Purple) and Air BnB Listings (Green)')\n",
    "\n",
    "# Display\n",
    "plt.show()\n"
   ]
  },
  {
   "cell_type": "markdown",
   "metadata": {},
   "source": [
    "Plotting the two point sets together, we encounter the same occlusion problem,\n",
    "only now it takes on a more complex form since listings can occlude other\n",
    "listings, cafes can occlude other cafes, and cafes can occlude listings (since\n",
    "cafes are drawn last).\n",
    "\n",
    "One way around these issues is to ask more particular questions about the\n",
    "spatial relationships between the two point sets. For example, one very\n",
    "important question (from the perspective of  a coffee aficionado) we may\n",
    "want to answer is \"what is the closest cafe to my listing?\"\n",
    "\n",
    "To answer this question we develop [Voronoi polygons](http://jwilson.coe.uga.edu/EMAT6680Fa08/Kuzle/Math%20in%20Context/Voronoi%20diagrams.html)\n",
    "for each cafe. These polygons comprise a tessellation of the extent such that\n",
    "there is one polygon for each cafe, and these polygons define the set of points\n",
    "for which that cafe is the closest of all cafes in San Diego.\n",
    "\n",
    "Because these polygons are planar enforced, we know that each of our listings\n",
    "will be contained by one, and only one, of the Voronoi polygons. Once we know\n",
    "which polygon a listing is within, we also know which cafe is closet to that\n",
    "listing - and that will be the cafe that is the generator point for the polygon."
   ]
  },
  {
   "cell_type": "markdown",
   "metadata": {},
   "source": [
    "We construct the Voronoi polygons using **libpysal**:\n"
   ]
  },
  {
   "cell_type": "code",
   "execution_count": null,
   "metadata": {},
   "outputs": [],
   "source": [
    "import libpysal"
   ]
  },
  {
   "cell_type": "code",
   "execution_count": null,
   "metadata": {},
   "outputs": [],
   "source": [
    "sheds, generators = libpysal.cg.voronoi.voronoi_frames(list(zip(cafes.geometry.x.values, cafes.geometry.y.values)))"
   ]
  },
  {
   "cell_type": "code",
   "execution_count": null,
   "metadata": {},
   "outputs": [],
   "source": [
    "sheds.plot(figsize=(16,16))"
   ]
  },
  {
   "cell_type": "markdown",
   "metadata": {},
   "source": [
    "and add these \"cafe sheds\" together with our basemap:"
   ]
  },
  {
   "cell_type": "code",
   "execution_count": null,
   "metadata": {},
   "outputs": [],
   "source": [
    "sheds.crs = 'epsg:3857'"
   ]
  },
  {
   "cell_type": "code",
   "execution_count": null,
   "metadata": {
    "lines_to_next_cell": 0
   },
   "outputs": [],
   "source": [
    "w,s,e,n = sheds.total_bounds"
   ]
  },
  {
   "cell_type": "markdown",
   "metadata": {},
   "source": [
    "\n"
   ]
  },
  {
   "cell_type": "code",
   "execution_count": null,
   "metadata": {},
   "outputs": [],
   "source": [
    "# Set up figure and axes\n",
    "f, ax = plt.subplots(1, figsize=(16,16))\n",
    "# Display tile map\n",
    "ax.imshow(img, extent=ext)\n",
    "# Display airports on top\n",
    "#listings.plot(ax=ax, c='green')\n",
    "sheds.plot(ax=ax, alpha=.7, edgecolor='white')\n",
    "cafes.plot(ax=ax, c='purple', alpha=0.5)\n",
    "#listings.plot(ax=ax, c='green')\n",
    "\n",
    "\n",
    "#ax.scatter(air.x, air.y, c='purple', s=2)\n",
    "# Remove axis\n",
    "#ax.set_axis_off()\n",
    "# Add title\n",
    "ax.set_title('San Diego Cafe Sheds')\n",
    "# Display\n",
    "ax.set_xlim((w,e))\n",
    "ax.set_ylim((s,n))\n",
    "ax.set_axis_off()\n",
    "\n",
    "plt.show()\n"
   ]
  },
  {
   "cell_type": "markdown",
   "metadata": {},
   "source": [
    "### Closest cafe\n",
    "\n",
    "To find the closest cafe to each listing, we do a spatial join of the listings\n",
    "dataframe with the coffee sheds (voronoi polygons):"
   ]
  },
  {
   "cell_type": "code",
   "execution_count": null,
   "metadata": {
    "lines_to_next_cell": 0
   },
   "outputs": [],
   "source": [
    "sheds.crs = 'epsg:3857'"
   ]
  },
  {
   "cell_type": "markdown",
   "metadata": {},
   "source": [
    "\n"
   ]
  },
  {
   "cell_type": "code",
   "execution_count": null,
   "metadata": {},
   "outputs": [],
   "source": [
    "cc = gpd.sjoin(listings.drop(['index_right'], axis=1), sheds, how='inner', op='within')"
   ]
  },
  {
   "cell_type": "code",
   "execution_count": null,
   "metadata": {},
   "outputs": [],
   "source": [
    "cc.head()"
   ]
  },
  {
   "cell_type": "code",
   "execution_count": null,
   "metadata": {},
   "outputs": [],
   "source": [
    "cc.shape"
   ]
  },
  {
   "cell_type": "code",
   "execution_count": null,
   "metadata": {},
   "outputs": [],
   "source": [
    "cc.rename(columns={'index_right': 'cafe'}, inplace=True)"
   ]
  },
  {
   "cell_type": "code",
   "execution_count": null,
   "metadata": {
    "lines_to_next_cell": 0
   },
   "outputs": [],
   "source": [
    "cc.head()"
   ]
  },
  {
   "cell_type": "markdown",
   "metadata": {},
   "source": [
    "This new dataframe has one record for each listing, and records the coffee\n",
    "shed, or Voronoi polygon,\n",
    "that contains the listing.\n",
    "\n",
    "## Choropleth of Demand by Coffee Shed\n",
    "\n",
    "From the perspective of an airbnb renter, we have given them what they need -\n",
    "the identification of their closest cafe. For the owners of the cafe, what\n",
    "would be of interest is how many such renters are within their Voronoi polygon.\n",
    "We can determine this number for each cafe in the data set in a similar fashion\n",
    "to what we've done above for the airports and listing by tract: do a groupby of\n",
    "the listings in each shed polygon:\n"
   ]
  },
  {
   "cell_type": "code",
   "execution_count": null,
   "metadata": {},
   "outputs": [],
   "source": [
    "cc.groupby(by='cafe').count()"
   ]
  },
  {
   "cell_type": "markdown",
   "metadata": {},
   "source": [
    "Here the `id` column is the count of the number of listings within the polygon\n",
    "associated with the cafe in the first column. Essentially this is counting up\n",
    "how many times a particular cafe appears in the `cafe` column:"
   ]
  },
  {
   "cell_type": "code",
   "execution_count": null,
   "metadata": {
    "lines_to_next_cell": 0
   },
   "outputs": [],
   "source": [
    "cc.cafe"
   ]
  },
  {
   "cell_type": "markdown",
   "metadata": {},
   "source": [
    "and we can find out how many cafes (out of all cafes in San Diego) are the\n",
    "nearest cafe to at least one listing:"
   ]
  },
  {
   "cell_type": "code",
   "execution_count": null,
   "metadata": {},
   "outputs": [],
   "source": [
    "generators.iloc[cc.cafe.unique()] # cafes that are a nearest neighbor to at least 1 listing"
   ]
  },
  {
   "cell_type": "markdown",
   "metadata": {},
   "source": [
    "Now we are in a position to visualize the spatial distribution of coffee demand\n",
    "across the sheds. Let's first rename our dataframe:"
   ]
  },
  {
   "cell_type": "code",
   "execution_count": null,
   "metadata": {},
   "outputs": [],
   "source": [
    "demand = cc[['cafe', 'listing_url']].groupby(by='cafe').count()\n",
    "demand.rename(columns={'listing_url':'listings'}, inplace=True)"
   ]
  },
  {
   "cell_type": "code",
   "execution_count": null,
   "metadata": {},
   "outputs": [],
   "source": [
    "demand.head()"
   ]
  },
  {
   "cell_type": "code",
   "execution_count": null,
   "metadata": {},
   "outputs": [],
   "source": [
    "demand.shape"
   ]
  },
  {
   "cell_type": "code",
   "execution_count": null,
   "metadata": {},
   "outputs": [],
   "source": [
    "demand.index"
   ]
  },
  {
   "cell_type": "markdown",
   "metadata": {},
   "source": [
    "We can join the demand dataframe to the sheds dataframe. This adds the demand\n",
    "column to the shed dataframe:"
   ]
  },
  {
   "cell_type": "code",
   "execution_count": null,
   "metadata": {},
   "outputs": [],
   "source": [
    "sheds = sheds.join(demand)"
   ]
  },
  {
   "cell_type": "code",
   "execution_count": null,
   "metadata": {},
   "outputs": [],
   "source": [
    "sheds.head()"
   ]
  },
  {
   "cell_type": "code",
   "execution_count": null,
   "metadata": {},
   "outputs": [],
   "source": [
    "sheds"
   ]
  },
  {
   "cell_type": "markdown",
   "metadata": {},
   "source": [
    "There are cafes with sheds that do not contain any listings and these have a\n",
    "`Nan` in their demand column. We can set these values to 0:"
   ]
  },
  {
   "cell_type": "code",
   "execution_count": null,
   "metadata": {},
   "outputs": [],
   "source": [
    "sheds = sheds.fillna(0)"
   ]
  },
  {
   "cell_type": "code",
   "execution_count": null,
   "metadata": {},
   "outputs": [],
   "source": [
    "sheds"
   ]
  },
  {
   "cell_type": "markdown",
   "metadata": {},
   "source": [
    "And finally, we can map the number of airbnb listings in each coffee shed:"
   ]
  },
  {
   "cell_type": "code",
   "execution_count": null,
   "metadata": {
    "lines_to_next_cell": 0
   },
   "outputs": [],
   "source": [
    "# Set up figure and axes\n",
    "f, ax = plt.subplots(1, figsize=(16,16))\n",
    "# Display tile map\n",
    "ax.imshow(img, extent=ext)\n",
    "# Display airports on top\n",
    "#listings.plot(ax=ax, c='green')\n",
    "sheds.plot(ax=ax, alpha=.7, edgecolor='white', column='listings', legend=True, scheme='quantiles')\n",
    "#cafes.plot(ax=ax, c='purple', alpha=0.5)\n",
    "#listings.plot(ax=ax, c='green')\n",
    "\n",
    "\n",
    "#ax.scatter(air.x, air.y, c='purple', s=2)\n",
    "# Remove axis\n",
    "#ax.set_axis_off()\n",
    "# Add title\n",
    "ax.set_title('Number of Airbnb Listings by San Diego Cafe Sheds')\n",
    "# Display\n",
    "ax.set_xlim((w,e))\n",
    "ax.set_ylim((s,n))\n",
    "ax.set_axis_off()\n",
    "\n",
    "plt.show()\n"
   ]
  },
  {
   "cell_type": "markdown",
   "metadata": {},
   "source": []
  },
  {
   "cell_type": "markdown",
   "metadata": {},
   "source": [
    "## Exercises\n",
    "\n",
    "1. Which coffee shed has the highest listing price?\n",
    "\n",
    "2. How distant are the highest and lowest listings?\n",
    "3. Generate a choropleth that expresses listing intensity (listings per square\n",
    "   kilometer) by coffee shed."
   ]
  },
  {
   "cell_type": "code",
   "execution_count": null,
   "metadata": {},
   "outputs": [],
   "source": [
    "sheds.geometry"
   ]
  },
  {
   "cell_type": "code",
   "execution_count": null,
   "metadata": {},
   "outputs": [],
   "source": [
    "sheds.geometry.area"
   ]
  },
  {
   "cell_type": "code",
   "execution_count": null,
   "metadata": {},
   "outputs": [],
   "source": [
    "sheds['area'] = sheds.geometry.area / 1000000"
   ]
  },
  {
   "cell_type": "code",
   "execution_count": null,
   "metadata": {},
   "outputs": [],
   "source": [
    "# Set up figure and axes\n",
    "f, ax = plt.subplots(1, figsize=(16,16))\n",
    "# Display tile map\n",
    "ax.imshow(img, extent=ext)\n",
    "# Display airports on top\n",
    "#listings.plot(ax=ax, c='green')\n",
    "sheds.plot(ax=ax, edgecolor='grey', column='area', legend=True,\n",
    "          scheme='fisher_jenks',\n",
    "          classification_kwds={'k':10})\n",
    "#cafes.plot(ax=ax, c='purple', alpha=0.5)\n",
    "#listings.plot(ax=ax, c='green')\n",
    "\n",
    "\n",
    "#ax.scatter(air.x, air.y, c='purple', s=2)\n",
    "# Remove axis\n",
    "#ax.set_axis_off()\n",
    "# Add title\n",
    "ax.set_title('San Diego Cafe Sheds Area (km2)')\n",
    "# Display\n",
    "ax.set_xlim((w,e))\n",
    "ax.set_ylim((s,n))\n",
    "ax.set_axis_off()\n",
    "\n",
    "plt.show()\n"
   ]
  },
  {
   "cell_type": "code",
   "execution_count": null,
   "metadata": {},
   "outputs": [],
   "source": [
    "sheds['lintensity'] = sheds['listings'] / sheds['area']\n",
    "# Set up figure and axes\n",
    "f, ax = plt.subplots(1, figsize=(16,16))\n",
    "# Display tile map\n",
    "ax.imshow(img, extent=ext)\n",
    "# Display airports on top\n",
    "#listings.plot(ax=ax, c='green')\n",
    "sheds.plot(ax=ax, edgecolor='grey', column='lintensity', legend=True,\n",
    "          scheme='fisher_jenks',\n",
    "          classification_kwds={'k':10})\n",
    "#cafes.plot(ax=ax, c='purple', alpha=0.5)\n",
    "#listings.plot(ax=ax, c='green')\n",
    "\n",
    "\n",
    "#ax.scatter(air.x, air.y, c='purple', s=2)\n",
    "# Remove axis\n",
    "#ax.set_axis_off()\n",
    "# Add title\n",
    "ax.set_title('San Diego Listings Intensity by Cafe Sheds')\n",
    "# Display\n",
    "ax.set_xlim((w,e))\n",
    "ax.set_ylim((s,n))\n",
    "ax.set_axis_off()\n",
    "\n",
    "plt.show()\n"
   ]
  },
  {
   "cell_type": "markdown",
   "metadata": {},
   "source": [
    "---\n",
    "\n",
    "<a rel=\"license\" href=\"http://creativecommons.org/licenses/by-nc-nd/4.0/\"><img alt=\"Creative Commons License\" style=\"border-width:0\" src=\"https://i.creativecommons.org/l/by-nc-nd/4.0/88x31.png\" /></a><br />This work is licensed under a <a rel=\"license\" href=\"http://creativecommons.org/licenses/by-nc-nd/4.0/\">Creative Commons Attribution-NonCommercial-NoDerivatives 4.0 International License</a>."
   ]
  },
  {
   "cell_type": "code",
   "execution_count": null,
   "metadata": {},
   "outputs": [],
   "source": []
  }
 ],
 "metadata": {
  "anaconda-cloud": {},
  "jupytext": {
   "formats": "ipynb,md"
  },
  "kernelspec": {
   "display_name": "Python 3",
   "language": "python",
   "name": "python3"
  },
  "language_info": {
   "codemirror_mode": {
    "name": "ipython",
    "version": 3
   },
   "file_extension": ".py",
   "mimetype": "text/x-python",
   "name": "python",
   "nbconvert_exporter": "python",
   "pygments_lexer": "ipython3",
   "version": "3.8.5"
  }
 },
 "nbformat": 4,
 "nbformat_minor": 4
}
