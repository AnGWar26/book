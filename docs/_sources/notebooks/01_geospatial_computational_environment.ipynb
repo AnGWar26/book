{
 "cells": [
  {
   "cell_type": "markdown",
   "metadata": {},
   "source": [
    "# Geospatial Computational Environment\n",
    "## Computational Tools for Geographic Data Science"
   ]
  },
  {
   "cell_type": "code",
   "execution_count": null,
   "metadata": {},
   "outputs": [],
   "source": [
    "from IPython.display import Image"
   ]
  },
  {
   "cell_type": "markdown",
   "metadata": {},
   "source": [
    "This chapter provides an overview of the scientific and computational context\n",
    "in which the book is framed. First, we will explore debates around Open\n",
    "Science, its origins, and how the computational community is responding to\n",
    "these. In particular, we will discuss computational notebooks, open-source\n",
    "packages, and reproducible platforms. Having covered the conceptual\n",
    "background, we will turn to a practical introduction of the key infrastructure\n",
    "that makes up this book: Jupyter Notebooks and JupyterLab, Python packages,\n",
    "and a containerised platform to run the book."
   ]
  },
  {
   "cell_type": "markdown",
   "metadata": {},
   "source": [
    "## Open Science\n",
    "\n",
    "The term Open Science has grown in popularity in recent years. Although it is\n",
    "used in a variety of contexts with slightly different meanings, a general\n",
    "sense of the intuition behind Open Science is the understanding that the\n",
    "scientific process, at its core, is meant to be transparent and accessible.\n",
    "In this context, the focus on openess is not to be seen as an \"add-on\" that\n",
    "changes the general approach only cosmetically, but as a key component of what\n",
    "makes science Science. Indeed the scientific process, understood as one where\n",
    "we \"build on the shoulders of Giants\" and progress through dialectic, can only\n",
    "work properly is there is enough transparency and accessibility that the\n",
    "community can access and study both results _and_ the process that created\n",
    "them.\n",
    "\n",
    "To better understand the argument behind modern Open Science, it is useful\n",
    "to take a historical perspective. The idea of openness was engrained at the\n",
    "core of early scientists. In fact that was one of the key differentials with\n",
    "their contemporary \"alchemists\" which, in many respects, were working on\n",
    "similar topics albeit in a much more opaque way {cite}`Nielsen_2020`. Scientists\n",
    "would record the field or lab experiments on paper notebooks or diaries,\n",
    "providing enough detail to, first, remember what they had done and how they\n",
    "had arrived at their results, but also to ensure other members of the\n",
    "scientific community could study, understand, and replicate their findings.\n",
    "One of the most famous of these annotations are Galileo's drawings of Jupiter ([source](https://commons.wikimedia.org/wiki/File:Medicean_Stars.png)) and the Medicean stars:"
   ]
  },
  {
   "cell_type": "code",
   "execution_count": null,
   "metadata": {},
   "outputs": [],
   "source": [
    "url = (\"https://upload.wikimedia.org/wikipedia/\"\\\n",
    "       \"commons/c/ca/Medicean_Stars.png\")\n",
    "Image(url)"
   ]
  },
  {
   "cell_type": "markdown",
   "metadata": {},
   "source": [
    "There is a growing perception that much of the original ethos of Science to\n",
    "operate through transparency and accessibility has been lost. A series of\n",
    "recent big profile scandals have even prompted some to call it a state of\n",
    "crisis {cite}`Ioannidis_2007`. This \"crisis\" arises because the analyses that scientists conduct\n",
    "are difficult to repeat, let alone understand. Both article length and publication\n",
    "volume has grown immensely since the early days of science, and this has \n",
    "affected our ability to understand our literature as a whole. \n",
    "\n",
    "Why is there a sense that Science is no longer open and\n",
    "transparent in the way Galileo's diaries were? Although certinaly not the only\n",
    "or even the most important one, technology plays a role. The process and workflow\n",
    "of original scientists relied on a set of \"analog\" technologies for which an\n",
    "\"analog\" parallel set of tools was developed to keep track and document\n",
    "progress. Hence the paper notebooks where biologists drew species, or chemists\n",
    "painstakingly detailed each step they took in the lab. In the case of social\n",
    "sciences, this was probably easier in the sense that quantitative data was not\n",
    "abundant and much of the analysis relied either on math or small datasets\n",
    "which could be directly documented in the original publications.\n",
    "\n",
    "However Science has evolved a great deal since then, and much of the\n",
    "experimental workflow is dominated by a variety of machinery, most\n",
    "prominently by computers. Most of the Science done today, at some\n",
    "point in the process, takes the form of operations mediated through software\n",
    "programs. In this context, the traditional approach of writing down in a paper\n",
    "notebook every step followed becomes dislocated from the medium in which most of\n",
    "the scientific work takes place.\n",
    "\n",
    "The current state of Science in terms of transparency and openness is prompting\n",
    "for action {cite}`Rey_2009`. On the back of these debates, the term\n",
    "\"reproducibility\" is also gaining traction. Again, this is a rather general\n",
    "term but, in one variant or another, its definition alludes to the need of\n",
    "scientific results to be accompanied by enough information and detail so they\n",
    "could be repeated by a third party. Since much of modern science is mediated\n",
    "through computers, reproducibility thus poses important challenges for the\n",
    "tools and practices the scientific community builds and relies on. Although\n",
    "there is a variety of approaches, in this book we focus on what we see as the\n",
    "emerging consensus. This framework enables to record and express entire\n",
    "workflows in a way that is both transparent and that fosters efficiency and\n",
    "collaboration.\n",
    "\n",
    "We structure our approach to reproducibility in three main layers that build on\n",
    "each other. At the top of this \"stack\" are _computational notebooks_; supporting\n",
    "the code written in notebooks are _open source packages_; and making possible to\n",
    "transfer computations across different hardware devices and/or architectures\n",
    "are what we term _reproducible platforms_. Let us delve into each of them with\n",
    "a bit more detail before we practically show how this book is built on this\n",
    "infrastructure (and how you too can reproduce it at home!).\n",
    "\n",
    "### Computational notebooks\n",
    "\n",
    "Computational notebooks are the XXIst Century sibling of Galileo's notebooks.\n",
    "Like their predecessors, they allow researchers, (data) scientists, and\n",
    "computational practitioners to record their practices and steps taken as they\n",
    "are going about their work; unlike the pen and paper approach, computational\n",
    "notebooks are fully integrated in the technological paradigm in which research\n",
    "and computation takes place today. For these reasons, they are rapidly becoming the\n",
    "modern-day version of the traditional academic paper, the main vehicle on\n",
    "which (computational) knowledge is created, shared, and consumed.\n",
    "Computational notebooks (or notebooks, from now on) are also spreading their\n",
    "reach into industry practices, being used, for example, in reports.\n",
    "\n",
    "All implementations of notebooks share a series of \n",
    "core features. First, a notebook comprises a single file that stores narrative text,\n",
    "computer code, and the output produced by code. Storing both\n",
    "narrative and computational work in a _single file_ means that the entire\n",
    "workflow can be recorded and documented in the same place, without having to \n",
    "resort to ancillary devices (like a paper notebook). A second feature of\n",
    "notebooks is that they allow for _interactive work_. Modern computational work\n",
    "benefits from the ability to try, fail, tinker, and iterate quickly until a\n",
    "working solution is found. Notebooks embody this quality and enable the user\n",
    "to work interactively. Whether the computation takes place on a laptop or\n",
    "on a data center, notebooks provide the same interface for interactive\n",
    "computing, lowering the cognitive load require to scale up. Third, notebooks\n",
    "have _interoperability_ built in. The notebook format is designed for\n",
    "recording and sharing computational work, but not necessarily for other stages\n",
    "of the research cycle. To widen the range of possibilities and\n",
    "applications, notebooks are designed to be easily convertible into other\n",
    "formats. For example, while a specific application is required to open and edit\n",
    "most notebook file formats, no additional software is required to convert them\n",
    "into pdf files that can be read, printed, and annotated without the need of technical\n",
    "software.\n",
    "\n",
    "Notebooks represent the top layer on the reproducibility stack. They can capture\n",
    "in detailed and reproducible ways work that is specific about a given project: \n",
    "what data is used, how it is read, cleaned, and transformed; what algorithms are used, how they\n",
    "are combined; how each figure in the project is generated, etc. Guidance on how\n",
    "to write notebooks in efficient ways is also emerging (e.g. {cite}`Rule_2019`).\n",
    "\n",
    "### Open source packages\n",
    "\n",
    "To make notebooks an efficient medium to communicate computational work, it is\n",
    "important that they are concise and streamlined. One way to achieve this goal is\n",
    "to only include the parts of the work that are unique to the application being\n",
    "recorded in the notebook, and to avoid duplication. From this it follows that\n",
    "if a piece of code is used several times across the notebook, or even across\n",
    "several notebooks, that functionality should probably be taken out of the\n",
    "notebook and into a centralised place where it can be accessed whenever\n",
    "needed. In other words, such functionality should be turned into a package.\n",
    "\n",
    "Packages are modular, flexible and repurposable compilations of code. Unlike\n",
    "notebooks, they do not capture specific applications but abstractions of\n",
    "functionality that can be used in a variety of contexts. Their function is to\n",
    "avoid duplication \"downstream\" by encapsulating functionality in a way that\n",
    "can be accessed and used in a variety of contexts without having to re-write\n",
    "code every time it is needed. In doing so, packages (or libraries, an\n",
    "interchangeable term in this context) embody the famous hacker moto of D.R.Y.:\n",
    "\"don't repeat yourself\".\n",
    "\n",
    "Open source packages are packages whose code is available to inspect, modify\n",
    "and redistribute. They fulfill the same functions as any package in terms of\n",
    "modularising code, but they also enable transparency as any user can\n",
    "access the exposed functionality _and_ the underlying code that\n",
    "generates it. For this reason, for code packages to serve Open Science and\n",
    "reproducibility, they need to be open source.\n",
    "\n",
    "### Reproducible platforms\n",
    "\n",
    "For computational work to be fully reproducible and open, it needs to be\n",
    "possible to replicate in a different (computational) environment than where it\n",
    "was originally created. This means that it is not sufficient to specify in a\n",
    "notebook the code that creates the final outputs, and to rely on open source\n",
    "packages for more general functionality; the environment specified by those\n",
    "two components needs to be reproducible too. This statement, which might seem\n",
    "obvious and straightforward, is not always so due to the scale and complexity\n",
    "of modern computational workflows and infrastructures. The old saying of \"if\n",
    "it works on my laptop, what's the problem?\" is not enough any more, it needs\n",
    "to work on \"any laptop\" (or computer).\n",
    "\n",
    "Reproducible platforms encompass the more general aspects\n",
    "that enable open source packages and notebooks to be reproducible. A\n",
    "reproducible platform thus specifies the infrastructure required to ensure a\n",
    "notebook that uses certain open source packages can be successfully executed.\n",
    "Infrastructure, in this context, relates to lower-level aspects of the\n",
    "software stack, such as the operating system, and even some hardware\n",
    "requirements, such as the use of specific chips such as graphics processing\n",
    "units (GPU). Additionally, a reproducible platform will also specify the\n",
    "versions of packages that are required to recreate the results presented in a\n",
    "notebook.\n",
    "\n",
    "Unlike open source packages, the notion of reproducible platforms is not as\n",
    "widespread and generally agreed upon. Its necessity has only become apparent more\n",
    "recently, and work on providing them in standardised ways is less developed\n",
    "than in the case of notebook technology or code packaging and distribution.\n",
    "Nevertheless, some inroads are being made. One area which has experienced\n",
    "significant progress in recent years and holds great promise in this context is\n",
    "container technology. Containers are a lightweight version of a virtual\n",
    "machine, which is a program that enables an entire operating system to run\n",
    "compartimentalised on top of another operating system. Containers allow to\n",
    "encapsulate an entire environment (or platform) in a format that is easy to\n",
    "transfer and reproduce in a variety of computational contexts. The most\n",
    "popular technology for containers nowadays is Docker, and the opportunities\n",
    "that it provides to build transparent and transferrable infrastructure for\n",
    "data science are starting to be explored {cite}`Cook_2017`.\n",
    "\n",
    "## The (computational) building blocks of this book\n",
    "\n",
    "### Jupyter Notebooks and JupyterLab\n",
    "\n",
    "#### Notebooks\n",
    "\n",
    "This book uses notebooks as the main format in which its content is created and\n",
    "distributed. Each chapter is written as a separate notebook and can\n",
    "be run interactively. At the same time, we collect all chapters and convert\n",
    "them into different formats for \"static consumption\" (ie. read only), either\n",
    "in HTML format for the web, or PDF to be printed in a physical copy.\n",
    "This section will present the specific format of notebooks we use, and\n",
    "illustrate its building blocks in a way that allows you to then follow the\n",
    "rest of the book interactively.\n",
    "\n",
    "Our choice of notebook is Jupyter {cite}`Kluyver2016jupyter`. A Jupyter notebook is a plain\n",
    "text file with the `.ipynb` extension, which means that it is an easy file to\n",
    "move around, sync, and track over time. Internally, it is structured as a plain-text document containing\n",
    "JavaScript Object Notation that records the state of the notebook, so they \n",
    "also integrate well with a host of modern web technologies.\n",
    "The atomic element that makes up a notebook is called a _cell_. Cells are \n",
    "consistent chunks of content that contain either text or code. In fact, a\n",
    "notebook can be thought of as an ordered collection of cells. Cells can be of\n",
    "two types: _text_ and _code_.\n",
    "\n",
    "#### Cells\n",
    "\n",
    "Text cells contain text written in the Markdown markup language. Markdown is a\n",
    "popular set of rules to create rich content (e.g. headers, lists, links) from\n",
    "flat, plain text files without being as complex and sophisticated as other\n",
    "typesetting approaches. The notebook will then render markdown\n",
    "automatically. For more demanding or specific tasks, text cells can further \n",
    "integrate $\\LaTeX$ notation. This means we can write most forms of narrative\n",
    "relying on markdown, which is more straightforward, and rely on $\\LaTeX$ for\n",
    "more sophisticated parts, such as equations. Covering Markdown rules in detail\n",
    "is beyond the scope of this chapter, but the interested reader can inspect the\n",
    "[official Github specification](https://help.github.com/en/github/writing-on-github/basic-writing-and-formatting-syntax) \n",
    "of the so-called Github-flavored markdown, the one adopted by the notebook.\n",
    "\n",
    "Code cells are text boxes that contain computer code. In the case of this\n",
    "book, all code will be Python, but Jupyter notebooks are flexible enough to\n",
    "work with other languages (see the offical list of Jupyter-supported kernels\n",
    "[here](https://github.com/jupyter/jupyter/wiki/Jupyter-kernels)).\n",
    "Aesthetically, code cells look as follows:"
   ]
  },
  {
   "cell_type": "code",
   "execution_count": null,
   "metadata": {
    "attributes": {
     "classes": [],
     "id": "",
     "n": "1"
    }
   },
   "outputs": [],
   "source": [
    "# This is a code cell"
   ]
  },
  {
   "cell_type": "markdown",
   "metadata": {},
   "source": [
    "A code cell can be run to execute the code it contains. If such code produces\n",
    "an output (e.g. a table or a figure), this will be printed as a cell output.\n",
    "Every time a cell is run, its counter will go up once.\n",
    "\n",
    "#### Rich Content\n",
    "\n",
    "Code cells in a notebook also enable the embedding of rich (web) content. The\n",
    "`IPython` package provides methods to access as series of media and bring them\n",
    "directly to the notebook environment. Let us see how this can be done\n",
    "practically. To be able to demonstrate it, we will need to _import_ the\n",
    "`display` module (skip to the next section if you want to learn more about\n",
    "importing packages):"
   ]
  },
  {
   "cell_type": "code",
   "execution_count": null,
   "metadata": {
    "attributes": {
     "classes": [],
     "id": "",
     "n": "3"
    }
   },
   "outputs": [],
   "source": [
    "import IPython.display as display"
   ]
  },
  {
   "cell_type": "markdown",
   "metadata": {},
   "source": [
    "This makes available additional functionality that allows us to embed rich\n",
    "content. For example, we can include a YouTube clip by passing the video ID:"
   ]
  },
  {
   "cell_type": "code",
   "execution_count": null,
   "metadata": {
    "attributes": {
     "classes": [],
     "id": "",
     "n": "4"
    }
   },
   "outputs": [],
   "source": [
    "display.YouTubeVideo('iinQDhsdE9s')"
   ]
  },
  {
   "cell_type": "markdown",
   "metadata": {},
   "source": [
    "Or we can pass standard HTML code:"
   ]
  },
  {
   "cell_type": "code",
   "execution_count": null,
   "metadata": {
    "attributes": {
     "classes": [],
     "id": "",
     "n": "5"
    }
   },
   "outputs": [],
   "source": [
    "display.HTML(\"\"\"<table>\n",
    "<tr>\n",
    "<th>Header 1</th>\n",
    "<th>Header 2</th>\n",
    "</tr>\n",
    "<tr>\n",
    "<td>row 1, cell 1</td>\n",
    "<td>row 1, cell 2</td>\n",
    "</tr>\n",
    "<tr>\n",
    "<td>row 2, cell 1</td>\n",
    "<td>row 2, cell 2</td>\n",
    "</tr>\n",
    "</table>\"\"\")"
   ]
  },
  {
   "cell_type": "markdown",
   "metadata": {},
   "source": [
    "Note that this opens the door for including a large number of elements from the\n",
    "web, since an `iframe` of any other website can also be included. Of more relevance\n",
    "for this book, for example, we can embed interactive maps with an `iframe`:"
   ]
  },
  {
   "cell_type": "code",
   "execution_count": null,
   "metadata": {
    "attributes": {
     "classes": [],
     "id": "",
     "n": "6"
    }
   },
   "outputs": [],
   "source": [
    "osm = \"\"\"\n",
    "<iframe width=\"425\" height=\"350\" frameborder=\"0\" scrolling=\"no\" marginheight=\"0\" marginwidth=\"0\" src=\"http://www.openstreetmap.org/export/embed.html?bbox=-2.9662737250328064%2C53.400500637844594%2C-2.964626848697662%2C53.402550738394034&amp;layer=mapnik\" style=\"border: 1px solid black\"></iframe><br/><small><a href=\"http://www.openstreetmap.org/#map=19/53.40153/-2.96545\">View Larger Map</a></small>\n",
    "\"\"\"\n",
    "display.HTML(osm)"
   ]
  },
  {
   "cell_type": "markdown",
   "metadata": {},
   "source": [
    "Finally, using a similar approach, we can also load and display local \n",
    "images, which we will so throughout the book. For that, we use the `Image`\n",
    "method:"
   ]
  },
  {
   "cell_type": "code",
   "execution_count": null,
   "metadata": {},
   "outputs": [],
   "source": [
    "path = (\"../infrastructure/booksite/logo/\"\\\n",
    "        \"logo_transparent-bg.png\")\n",
    "display.Image(path)"
   ]
  },
  {
   "cell_type": "markdown",
   "metadata": {},
   "source": [
    "#### Jupyter Lab\n",
    "\n",
    "Our recommended way to interact with Jupyter notebooks is through Jupyter Lab.\n",
    "Jupyter Lab is an interface to the Jupyter ecosystem that brings together\n",
    "several tools for data science into a consistent interface that enables the user\n",
    "to accomplish most of her workflows. It is built as a web app following a\n",
    "client-server architechture. This means the computation is decoupled from the\n",
    "interface. This decoupling allows each to be hosted in the most convenient and\n",
    "efficient solution. For example, you might be following this book\n",
    "interactively in your laptop. In this case, it is likely both the server that\n",
    "runs all the Python computations you specify in code cells (what we call the\n",
    "_kernel_) is running locally, and you are interacting with it through your\n",
    "browser of preference. But the same technology could power a situation where\n",
    "your kernel is running in a cloud data center, and you interact with Jupyter\n",
    "Lab from a tablet.\n",
    "\n",
    "Jupyter Lab' interface has three main areas:"
   ]
  },
  {
   "cell_type": "code",
   "execution_count": null,
   "metadata": {},
   "outputs": [],
   "source": [
    "path = (\"../figures/jupyter_lab.png\")\n",
    "display.Image(path)"
   ]
  },
  {
   "cell_type": "markdown",
   "metadata": {},
   "source": [
    "At the top we find a menu bar (red box in the figure) that allows us to open,\n",
    "create and interact with files, as well as to modify the appearance and \n",
    "behaviour of Jupyter Lab. The largest real estate is occupied by the main\n",
    "pane (blue box). By default, there is an option to create a new notebook, open\n",
    "a console, a terminal session, a (markdown) text file, and a window for\n",
    "contextual help. Jupyter Lab provides a flexible workspace in that the user\n",
    "can open as many windows as needed and rearrange them as desired by dragging\n",
    "and dropping. Finally, on the left of the main pane we find the side pane\n",
    "(green box),\n",
    "which has several tabs that toggle on and off different auxilliary information.\n",
    "By default, we find a file browser based on the folder from where the session\n",
    "has been launched. But we can also switch to a pane that lists all the\n",
    "currently open kernels and terminal sessions, a list of all the commands in the\n",
    "menu (the command _palette_), and a list of all the open windows inside the\n",
    "lab.\n",
    "\n",
    "### Python and Open Source Packages\n",
    "\n",
    "#### Python\n",
    "\n",
    "The main component of this book relies on the [Python](https://www.python.org/)\n",
    "programming language. Python is a [high-\n",
    "level](https://en.wikipedia.org/wiki/High-level_programming_language)\n",
    "programming language used widely in data science. To give a couple of examples of its\n",
    "relevance, it powers [most of the company Dropbox's main product](https://www.quora.com/How-does-dropbox-use-python-What-features-are-implemented-in-it-any-tangentially-related-material?share=1), and is also heavily\n",
    "[used](https://www.python.org/about/success/usa/) to control satellites at NASA.\n",
    "A great deal of Science is also done in Python, from [research in\n",
    "astronomy](https://www.youtube.com/watch?v=mLuIB8aW2KA) at UC Berkley, to\n",
    "[courses in economics](https://lectures.quantecon.org/py/) by Nobel Prize-winning professors. \n",
    "\n",
    "This book uses Python because it is a good language for beginners and \n",
    "high performance science alike. For this reason, it has emerged as one of the main\n",
    "and most solid options for Data Science. Python is widely used for data \n",
    "processing and analysis both in academia and in industry. There is a vibrant and \n",
    "growing scientific community (through the [Scientific Python](http://scipy.org/) \n",
    "library and the [PyData](http://pydata.org/) organization), working in\n",
    "both universities and companies, to support and enhance the Python's capabilities.\n",
    "New methods and usability improvements of existing packages (also known as libraries)\n",
    "are continuously being released. In geocomputation, Python is also very widely\n",
    "adopted: it is the language used for scripting in both the main proprietary enterprise\n",
    "geographic information system,\n",
    "[ArcGIS](http://www.esri.com/software/arcgis), \n",
    "and the leading open geographic information system, [QGIS](http://qgis.org). All\n",
    "of this means that, whether you are thinking of continuing in Higher Education\n",
    "or trying to find a job in industry, Python will be an important asset, valuable to\n",
    "employers and scientists alike. \n",
    "\n",
    "Python code is \"dynamically interpreted\", which means it is run on-the-fly without \n",
    "needing to be compiled. This is in contrast to other kinds of programming\n",
    "languages, which require an additional non-interactive step where a program is \n",
    "converted into a binary file, which is then run directly. With Python, one does\n",
    "not need to worry about this non-interactive compilation step. Instead, we can \n",
    "simply write code, run code, fix any issues directly, and then re-run the code in a\n",
    "quick cycle. This makes Python a very productive tool for science, since you can\n",
    "prototype code quickly and directly. "
   ]
  },
  {
   "cell_type": "markdown",
   "metadata": {},
   "source": [
    "#### Open Source Packages\n",
    "\n",
    "The standard Python language includes some data structures (such as lists and\n",
    "dictionaries) and allows many basic mathematical operations (e.g. sums, differences,\n",
    "products). For example, right out of the box, and without any further\n",
    "action needed, you can use Python as a calculator:"
   ]
  },
  {
   "cell_type": "code",
   "execution_count": null,
   "metadata": {
    "attributes": {
     "classes": [],
     "id": "",
     "n": "9"
    }
   },
   "outputs": [],
   "source": [
    "3 + 5"
   ]
  },
  {
   "cell_type": "code",
   "execution_count": null,
   "metadata": {
    "attributes": {
     "classes": [],
     "id": "",
     "n": "10"
    }
   },
   "outputs": [],
   "source": [
    "2 / 3"
   ]
  },
  {
   "cell_type": "code",
   "execution_count": null,
   "metadata": {
    "attributes": {
     "classes": [],
     "id": "",
     "n": "11"
    }
   },
   "outputs": [],
   "source": [
    "(3 + 5) * 2 / 3"
   ]
  },
  {
   "cell_type": "markdown",
   "metadata": {},
   "source": [
    "However, the strength of Python as a data analysis tool comes from additional\n",
    "packages, software that adds functionality to the language itself.\n",
    "In this book, we will introduce and use many of the core libraries of the \"PyData stack\",\n",
    "a set of heavily-used libraries that make Python a fully-fledged\n",
    "system for (Geographic) Data Science. We will introduce each package as we use them \n",
    "throughout the chapters. For now, we will show how an installed package can be\n",
    "loaded into a session so its functionality can be accessed. This loading of\n",
    "a package, in Python, is called _importing_. We will use the library `geopandas` as\n",
    "an example. The simplest way to import a library is by typing the following:"
   ]
  },
  {
   "cell_type": "code",
   "execution_count": null,
   "metadata": {
    "attributes": {
     "classes": [],
     "id": "",
     "n": "12"
    }
   },
   "outputs": [],
   "source": [
    "import geopandas"
   ]
  },
  {
   "cell_type": "markdown",
   "metadata": {},
   "source": [
    "We now have access to the entire library of methods and clases, which we\n",
    "can call by prepending `geopandas.` to the name of the function we want.\n",
    "Sometimes, however, we will want to shorten the name to save keystrokes. This\n",
    "approach, called _aliasing_, can be done as follows:"
   ]
  },
  {
   "cell_type": "code",
   "execution_count": null,
   "metadata": {
    "attributes": {
     "classes": [],
     "id": "",
     "n": "12"
    }
   },
   "outputs": [],
   "source": [
    "import geopandas as gpd"
   ]
  },
  {
   "cell_type": "markdown",
   "metadata": {},
   "source": [
    "Now, every time we want to access a function from `geopandas`, all we need to\n",
    "type before the function's name is `gpd.`. However sometimes we rather import\n",
    "only parts of a library. For example, we might only want to use one function.\n",
    "In this case, it might be cleaner and more efficient to bring the function\n",
    "itself only:"
   ]
  },
  {
   "cell_type": "code",
   "execution_count": null,
   "metadata": {
    "attributes": {
     "classes": [],
     "id": "",
     "n": "12"
    }
   },
   "outputs": [],
   "source": [
    "from geopandas import read_file"
   ]
  },
  {
   "cell_type": "markdown",
   "metadata": {},
   "source": [
    "This allows us to use `read_file` directly in the current session.\n",
    "\n",
    "A very handy feature of Python is the ability to access on-the-spot help for functions. \n",
    "This means that you can check what a function is supposed to do, or how to use it\n",
    "from directly inside your Python session. Of course, this\n",
    "also works handsomely inside a notebook, too. There are a couple of ways to access\n",
    "the help. \n",
    "\n",
    "Take the `read_file` function we have imported above. One way to check its help\n",
    "dialog from within the notebook is to add a question mark after it:"
   ]
  },
  {
   "cell_type": "code",
   "execution_count": null,
   "metadata": {
    "attributes": {
     "classes": [],
     "id": "",
     "n": "20"
    }
   },
   "outputs": [],
   "source": [
    "read_file?"
   ]
  },
  {
   "cell_type": "markdown",
   "metadata": {},
   "source": [
    "As you can see, this brings up a sub-window in the browser with all the\n",
    "information you need. Additionally, Jupyter Lab offers the \"Contextual Help\"\n",
    "box in the initial launcher. If you open it, the help of every function where\n",
    "your cursor lands will be dynamically displayed in the contextual help.\n",
    "\n",
    "If, for whatever reason, you needed to print that info\n",
    "into the notebook itself, you can use the following `help` function instead:"
   ]
  },
  {
   "cell_type": "code",
   "execution_count": null,
   "metadata": {
    "attributes": {
     "classes": [],
     "id": "",
     "n": "21"
    }
   },
   "outputs": [],
   "source": [
    "help(geopandas.read_file)"
   ]
  },
  {
   "cell_type": "markdown",
   "metadata": {},
   "source": [
    "### Containerised platform\n",
    "\n",
    "As mentioned [earlier in this chapter](#Reproducible-platforms), \n",
    "reproducible platforms encompass technology and practices that help \n",
    "reproduce a set of analyses or computational work in a different environment\n",
    "than that in which it was produced. There are several approaches to implement\n",
    "this concept in a practical setting. For this book, we use a package called\n",
    "Docker. Docker is based on an obscure feature of Linux called containers,\n",
    "which allows to run processes in an isolated way within the operating system.\n",
    "We decided to settle on Docker for several reasons but, in particular, for\n",
    "three main reasons: first, it is widely adopted as an industry standard (e.g.\n",
    "almost any website today runs on Docker containers), which means it is well\n",
    "supported and is not likely to disappear any time soon; second, it has also\n",
    "become a standard in the world of data science, which means foundational\n",
    "projects such as Jupyter create official containers for these packages; and\n",
    "third, because of the two previous reasons, building the platform that\n",
    "supports the book in Docker allows us to easily integrate it, for example, in\n",
    "the cloud or local servers, which in turn has benefits to\n",
    "easily and efficiently make the book available in more contexts.\n",
    "\n",
    "Docker allows us to create a \"container\" that includes all the tools required\n",
    "to access the content of the book interactively. But, what exactly is a \n",
    "container? There are several ways to describe it, from very technical\n",
    "to more intuitive ones. In this context, we will focus on a general\n",
    "understanding rather than on the technical details behind its magic. One can\n",
    "think of a container as, well, a \"box\" that includes\n",
    "_everything_ that is required to run a certain set of software. This box can\n",
    "be moved around, from machine to machine, and the computations it\n",
    "executes will remain exactly the same. In fact, the content of the box\n",
    "remains exactly the same, bit by bit. When we download a container into a\n",
    "computer, be it a laptop or a data center, we are not performing an install of\n",
    "the software it contains from the usual channels, for the platform on which we\n",
    "are going to run it on. Instead, we are downloading the software in the form\n",
    "that was installed when the container was originally built and packaged,\n",
    "and for the operating system that was also packaged originally. This is the real\n",
    "advantage: build once, run everywhere. For the experienced reader,\n",
    "this might sound very much like their older syster: virtual machines. Although\n",
    "there are similarities between both technologies, containers are more \n",
    "lightweight and can be run much more swiftly than virtual machines.\n",
    "This box that is isolated interacts with the rest of the computer through\n",
    "several links that connect the two. In the case of this book, since JupyterLab\n",
    "is a client-server application, the server runs inside the container and we\n",
    "connect to it through two main \"doors\": one, through the browser, we will\n",
    "access the main Lab interface; and two, we will \"mount\" a folder inside the\n",
    "container so we can use software inside the container to edit files that are\n",
    "stored outside in the host machine.\n",
    "\n",
    "\"Containers are great but, how can I install and run one?\", you might be\n",
    "asking yourself at this point. First, you will need to install Docker on your\n",
    "machine. This assumes you have administrative rights (ie. you can install\n",
    "software). If that is the case, you can go to the Docker website \n",
    "([https://www.docker.com/])(https://www.docker.com/)) and install the version\n",
    "that suits your operating system. Note that, although container\n",
    "technology is Linux-based, Docker provides tools to run it smoothly in macOS\n",
    "and Windows. An install guide for Docker is beyond the scope of this chapter,\n",
    "but there is much documentation available on the web to this end. We\n",
    "personally recommend the official documentation \n",
    "([https://docs.docker.com/](https://docs.docker.com/)), but you might find other\n",
    "resources that suit your needs better.\n",
    "\n",
    "#### Run the book's container\n",
    "\n",
    "Once you have Docker up and running on your computer, you can download the\n",
    "image we have prepared for the book. This operation is akin to installing the\n",
    "software you need to interact with the book, so you will only need to run it once.\n",
    "However, keep in mind that the image is relatively large (around 7GB), so you\n",
    "will need the space on your machine as well as a good internet connection. If\n",
    "you check those two boxes, you are ready to go. Here are the steps to take:\n",
    "\n",
    "1. Open a terminal or shell. How to do this will depend on your operating\n",
    "   system:\n",
    "\n",
    "   - `Windows`: we recommend PowerShell. Type \"PowerShell\" on the startup menu\n",
    "     and, when it comes up, hit enter. This will open a terminal for you.\n",
    "   - `macOS`: use the `Teminal.app`. You can find it on the Applications\n",
    "     folder, within the Utilities subfolder.\n",
    "   - `Linux`: if you are running Linux, you probably already have a terminal\n",
    "     application of preference. Almost any Linux distribution comes with a\n",
    "     terminal or shell app built in.\n",
    "\n",
    "2. Download, or \"pull\", our container. For this run on the terminal the\n",
    "   following command:\n",
    "\n",
    "   ```shell\n",
    "   docker pull gdsbook/stack\n",
    "   ```\n",
    "\n",
    "That's it! Once the command above completes, you have all the software you\n",
    "need to interact with this book.\n",
    "\n",
    "You can now run the container with the following command:\n",
    "\n",
    "```shell\n",
    "docker run --rm -ti -p 8888:8888 -v ${PWD}:/home/jovyan/work gdsbook/stack\n",
    "```\n",
    "\n",
    "Let's unpack the command so we understand everything that is going on here to\n",
    "get further insight into how the container works:\n",
    "\n",
    "- `docker run`: Docker does a lot of things, to communicate that we want to\n",
    "  _run_ a new container, we need specify it.\n",
    "- `--rm`: this flag will ensure the container is removed when you close\n",
    "  it. This in turn makes sure every time you run it again, you start\n",
    "  afresh with the exact same set up.\n",
    "- `-ti`: this flag further ensures that the container is not run in the\n",
    "  background but in an _i_nteractive mode.\n",
    "- `-p 8888:8888`: with this, we ensure we forward the _port_ from inside\n",
    "  the container out to the host machine (i.e. your laptop). This step is\n",
    "  crucial because it allows us to interact with the server\n",
    "  and for Jupyter to \"send\" JupyterLab across so we can access it in our\n",
    "  web browser.\n",
    "- `-v ${PWD}:/home/jovyan/work`: similarly, this flag \"mounts\" the folder\n",
    "  from where the command is being run in the terminal (`${PWD}`) into the\n",
    "  container so it is visible and editable from inside the container. Such\n",
    "  folder will be available at the container's `work` folder.\n",
    "- `gdsbook/stack`: finally, we also need to specify which image we want to\n",
    "  run. In this case, we run the image created for this book.\n",
    "\n",
    "The command above will generate output that will look, more or less like the\n",
    "following:\n",
    "\n",
    "```\n",
    "Executing the command: jupyter notebook\n",
    "[I 14:45:34.681 NotebookApp] Writing notebook server cookie secret to /home/jovyan/.local/share/jupyter/runtime/notebook_cookie_secret\n",
    "[I 14:45:36.504 NotebookApp] Loading IPython parallel extension\n",
    "[I 14:45:36.730 NotebookApp] JupyterLab extension loaded from /opt/conda/lib/python3.7/site-packages/jupyterlab\n",
    "[I 14:45:36.731 NotebookApp] JupyterLab application directory is /opt/conda/share/jupyter/lab\n",
    "[I 14:45:36.738 NotebookApp] [Jupytext Server Extension] NotebookApp.contents_manager_class is (a subclass of) jupytext.TextFileContentsManager already - OK\n",
    "[I 14:45:37.718 NotebookApp] Serving notebooks from local directory: /home/jovyan\n",
    "[I 14:45:37.718 NotebookApp] The Jupyter Notebook is running at:\n",
    "[I 14:45:37.719 NotebookApp] http://0fb71d146102:8888/?token=ae7e8017f3e97658a218ec2c2d1fbcc894f09d80f6b5f79c\n",
    "[I 14:45:37.719 NotebookApp]  or http://127.0.0.1:8888/?token=ae7e8017f3e97658a218ec2c2d1fbcc894f09d80f6b5f79c\n",
    "[I 14:45:37.719 NotebookApp] Use Control-C to stop this server and shut down all kernels (twice to skip confirmation).\n",
    "[C 14:45:37.725 NotebookApp] \n",
    "    \n",
    "    To access the notebook, open this file in a browser:\n",
    "        file:///home/jovyan/.local/share/jupyter/runtime/nbserver-6-open.html\n",
    "    Or copy and paste one of these URLs:\n",
    "        http://0fb71d146102:8888/?token=ae7e8017f3e97658a218ec2c2d1fbcc894f09d80f6b5f79c\n",
    "     or http://127.0.0.1:8888/?token=ae7e8017f3e97658a218ec2c2d1fbcc894f09d80f6b5f79c\n",
    "```\n",
    "\n",
    "With this, you can then head to your browser of preference (ideally Mozilla\n",
    "Firefox or Google Chrome) and point it to `localhost:8888`. This should render\n",
    "a landing page that looks approximately like this one:"
   ]
  },
  {
   "cell_type": "code",
   "execution_count": null,
   "metadata": {},
   "outputs": [],
   "source": [
    "path = (\"../figures/jupyter_landing_page.png\")\n",
    "display.Image(path)"
   ]
  },
  {
   "cell_type": "markdown",
   "metadata": {},
   "source": [
    "To access the lab, copy the token from the terminal (in the example above,\n",
    "that would be `ae7e8017f3e97658a218ec2c2d1fbcc894f09d80f6b5f79c`), enter it on\n",
    "the box and click on \"Log in\". Now you are in!\n",
    "\n",
    "#### Troubleshooting\n",
    "\n",
    "Containers make computations more transferable, but there is always a\n",
    "possibility of things not working for several reasons, mistakes and typos.\n",
    "A list of a few that we have found will be maintained on `https://geographicdata.science` \n",
    "for you to examine. "
   ]
  }
 ],
 "metadata": {
  "jupytext": {
   "formats": "ipynb,md"
  },
  "kernelspec": {
   "display_name": "Python 3",
   "language": "python",
   "name": "python3"
  }
 },
 "nbformat": 4,
 "nbformat_minor": 4
}
