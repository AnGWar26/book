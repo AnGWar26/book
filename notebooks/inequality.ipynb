{
 "cells": [
  {
   "cell_type": "markdown",
   "metadata": {},
   "source": [
    "# Spatial Inequality Analysis"
   ]
  },
  {
   "cell_type": "markdown",
   "metadata": {},
   "source": [
    "## Introduction\n",
    "\n",
    "- Regions are given here\n",
    "- Internal versus external homogeneity\n",
    "- Concentration versus composition"
   ]
  },
  {
   "cell_type": "markdown",
   "metadata": {},
   "source": [
    "- vignette: geodemographics\n",
    "   - tracts\n",
    "   - municipal boundaries\n",
    "   - income inequality\n",
    "   - inference\n",
    "       - permutations\n",
    "   - spatial gini decomposition?\n",
    "- vignette: raster (mexico city)\n",
    "   - land cover\n",
    "   - air quality\n",
    "   - envl racism\n",
    "   - municipal tracts\n",
    "   - need a resolution for the raster lower than tract\n",
    "   http://due.esrin.esa.int/page_globcover.php"
   ]
  },
  {
   "cell_type": "code",
   "execution_count": null,
   "metadata": {
    "collapsed": true
   },
   "outputs": [],
   "source": []
  }
 ],
 "metadata": {
  "kernelspec": {
   "display_name": "GDS",
   "language": "python",
   "name": "gdsbook"
  },
  "language_info": {
   "codemirror_mode": {
    "name": "ipython",
    "version": 3
   },
   "file_extension": ".py",
   "mimetype": "text/x-python",
   "name": "python",
   "nbconvert_exporter": "python",
   "pygments_lexer": "ipython3",
   "version": "3.5.5"
  }
 },
 "nbformat": 4,
 "nbformat_minor": 2
}
