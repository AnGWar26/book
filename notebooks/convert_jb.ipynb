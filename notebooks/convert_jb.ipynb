{
 "cells": [
  {
   "cell_type": "code",
   "execution_count": 88,
   "metadata": {},
   "outputs": [],
   "source": [
    "import glob"
   ]
  },
  {
   "cell_type": "code",
   "execution_count": 89,
   "metadata": {},
   "outputs": [],
   "source": [
    "file_names = glob.glob(\"*.md\")"
   ]
  },
  {
   "cell_type": "code",
   "execution_count": 90,
   "metadata": {},
   "outputs": [
    {
     "data": {
      "text/plain": [
       "['07_local_autocorrelation.md',\n",
       " '08_point_pattern_analysis.md',\n",
       " '10_clustering_and_regionalization.md',\n",
       " '00_toc.md',\n",
       " '05_choropleth.md',\n",
       " '12_feature_engineering.md',\n",
       " '03_spatial_data_processing.md',\n",
       " '11_regression.md',\n",
       " '02_spatial_data.md',\n",
       " '01_geospatial_computational_environment.md',\n",
       " '06_spatial_autocorrelation.md',\n",
       " '04_spatial_weights.md',\n",
       " '09_spatial_inequality.md']"
      ]
     },
     "execution_count": 90,
     "metadata": {},
     "output_type": "execute_result"
    }
   ],
   "source": [
    "file_names"
   ]
  },
  {
   "cell_type": "code",
   "execution_count": 91,
   "metadata": {},
   "outputs": [],
   "source": [
    "import re\n",
    "test_str = \"---\\n\"\n",
    "res = [i.start() for i in re.finditer(test_str, content)] "
   ]
  },
  {
   "cell_type": "code",
   "execution_count": 92,
   "metadata": {},
   "outputs": [],
   "source": [
    "new_header = \"\"\"---\n",
    "jupytext:\n",
    "  text_representation:\n",
    "    extension: .md\n",
    "    format_name: myst\n",
    "    format_version: '0.8'\n",
    "    jupytext_version: 1.5.0\n",
    "kernelspec: \n",
    "  display_name: Python 3\n",
    "  language: python\n",
    "  name: python3\n",
    "---\n",
    "\"\"\""
   ]
  },
  {
   "cell_type": "code",
   "execution_count": 93,
   "metadata": {},
   "outputs": [],
   "source": [
    "for file_name in file_names:\n",
    "    with open(file_name) as file:\n",
    "        content = file.read()\n",
    "        res = [i.start() for i in re.finditer(test_str, content)] \n",
    "        if len(res) > 1:\n",
    "            new_content = new_header + content[res[1]+4:]\n",
    "            new_content = new_content.replace(\"```python\",\"```{code-cell} ipython3\")\n",
    "        else:\n",
    "            new_content = content\n",
    "    with open(f\"../book/{file_name}\", 'w') as output_file:\n",
    "        output_file.write(new_content)\n",
    "\n"
   ]
  },
  {
   "cell_type": "code",
   "execution_count": null,
   "metadata": {},
   "outputs": [],
   "source": []
  }
 ],
 "metadata": {
  "kernelspec": {
   "display_name": "Python 3",
   "language": "python",
   "name": "python3"
  },
  "language_info": {
   "codemirror_mode": {
    "name": "ipython",
    "version": 3
   },
   "file_extension": ".py",
   "mimetype": "text/x-python",
   "name": "python",
   "nbconvert_exporter": "python",
   "pygments_lexer": "ipython3",
   "version": "3.8.5"
  }
 },
 "nbformat": 4,
 "nbformat_minor": 4
}
